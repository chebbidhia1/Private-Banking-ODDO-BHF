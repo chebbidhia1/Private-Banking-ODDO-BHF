{
 "cells": [
  {
   "cell_type": "code",
   "execution_count": 17,
   "metadata": {},
   "outputs": [],
   "source": [
    "import pandas as pd\n",
    "import numpy as np\n",
    "import matplotlib.pyplot as plt \n",
    "import seaborn as sns\n",
    "%matplotlib inline"
   ]
  },
  {
   "cell_type": "code",
   "execution_count": 4,
   "metadata": {},
   "outputs": [
    {
     "name": "stderr",
     "output_type": "stream",
     "text": [
      "C:\\Users\\SL-WASSIM\\Anaconda3\\lib\\site-packages\\ipykernel_launcher.py:1: FutureWarning: read_table is deprecated, use read_csv instead.\n",
      "  \"\"\"Entry point for launching an IPython kernel.\n"
     ]
    },
    {
     "data": {
      "text/html": [
       "<div>\n",
       "<style scoped>\n",
       "    .dataframe tbody tr th:only-of-type {\n",
       "        vertical-align: middle;\n",
       "    }\n",
       "\n",
       "    .dataframe tbody tr th {\n",
       "        vertical-align: top;\n",
       "    }\n",
       "\n",
       "    .dataframe thead th {\n",
       "        text-align: right;\n",
       "    }\n",
       "</style>\n",
       "<table border=\"1\" class=\"dataframe\">\n",
       "  <thead>\n",
       "    <tr style=\"text-align: right;\">\n",
       "      <th></th>\n",
       "      <th>GCO_CodSociete</th>\n",
       "      <th>GCO_CodPrestataire</th>\n",
       "      <th>GCO_CodCompte</th>\n",
       "      <th>GCO_CodTypeOrientation</th>\n",
       "      <th>GCO_IsOuvert</th>\n",
       "      <th>GCO_IsAsv</th>\n",
       "      <th>GCO_IsAssureur</th>\n",
       "      <th>GCO_IsPea</th>\n",
       "      <th>GCO_IsPeaPme</th>\n",
       "      <th>GCO_CodProduit</th>\n",
       "      <th>...</th>\n",
       "      <th>GCO_CodObjectifPlacementMif2</th>\n",
       "      <th>GCO_CodTypeDistributionMif2</th>\n",
       "      <th>GCO_CodProfilRisqueMif2</th>\n",
       "      <th>GCO_CodStrategieInvestissementMif2</th>\n",
       "      <th>GCO_AllocationActionMinMif2</th>\n",
       "      <th>GCO_AllocationActionMaxMif2</th>\n",
       "      <th>GCO_CodTarif</th>\n",
       "      <th>GCO_CodTarifDDG</th>\n",
       "      <th>GCO_CodTarifFHG</th>\n",
       "      <th>GCO_IsNanti</th>\n",
       "    </tr>\n",
       "  </thead>\n",
       "  <tbody>\n",
       "    <tr>\n",
       "      <th>0</th>\n",
       "      <td>OBP</td>\n",
       "      <td>Generali Patrimoine</td>\n",
       "      <td>0x6451CED2D329C6EE21BDDF0A8B291F56</td>\n",
       "      <td>W</td>\n",
       "      <td>1</td>\n",
       "      <td>0</td>\n",
       "      <td>1</td>\n",
       "      <td>0</td>\n",
       "      <td>0.0</td>\n",
       "      <td>004</td>\n",
       "      <td>...</td>\n",
       "      <td>1.0</td>\n",
       "      <td>0.0</td>\n",
       "      <td>1.0</td>\n",
       "      <td>1.0</td>\n",
       "      <td>30.0</td>\n",
       "      <td>70.0</td>\n",
       "      <td>BPAL</td>\n",
       "      <td>30-1</td>\n",
       "      <td>32-1</td>\n",
       "      <td>0</td>\n",
       "    </tr>\n",
       "    <tr>\n",
       "      <th>1</th>\n",
       "      <td>OBP</td>\n",
       "      <td>Axa</td>\n",
       "      <td>0x72DE8FA9B6E81B0758E5A9422C6D02A8</td>\n",
       "      <td>W</td>\n",
       "      <td>1</td>\n",
       "      <td>0</td>\n",
       "      <td>1</td>\n",
       "      <td>0</td>\n",
       "      <td>0.0</td>\n",
       "      <td>100</td>\n",
       "      <td>...</td>\n",
       "      <td>1.0</td>\n",
       "      <td>0.0</td>\n",
       "      <td>1.0</td>\n",
       "      <td>1.0</td>\n",
       "      <td>30.0</td>\n",
       "      <td>70.0</td>\n",
       "      <td>BPAL</td>\n",
       "      <td>30-1</td>\n",
       "      <td>32-1</td>\n",
       "      <td>0</td>\n",
       "    </tr>\n",
       "    <tr>\n",
       "      <th>2</th>\n",
       "      <td>OBP</td>\n",
       "      <td>Axa</td>\n",
       "      <td>0xD805A06CAECAE34E4A738DC4F62A8631</td>\n",
       "      <td>W</td>\n",
       "      <td>1</td>\n",
       "      <td>0</td>\n",
       "      <td>1</td>\n",
       "      <td>0</td>\n",
       "      <td>0.0</td>\n",
       "      <td>100</td>\n",
       "      <td>...</td>\n",
       "      <td>1.0</td>\n",
       "      <td>0.0</td>\n",
       "      <td>1.0</td>\n",
       "      <td>1.0</td>\n",
       "      <td>30.0</td>\n",
       "      <td>70.0</td>\n",
       "      <td>BPAL</td>\n",
       "      <td>30-1</td>\n",
       "      <td>32-1</td>\n",
       "      <td>0</td>\n",
       "    </tr>\n",
       "    <tr>\n",
       "      <th>3</th>\n",
       "      <td>OBP</td>\n",
       "      <td>Axa</td>\n",
       "      <td>0x5664E99D4B8BC50D3F454F8BDD009A99</td>\n",
       "      <td>W</td>\n",
       "      <td>1</td>\n",
       "      <td>0</td>\n",
       "      <td>1</td>\n",
       "      <td>0</td>\n",
       "      <td>0.0</td>\n",
       "      <td>100</td>\n",
       "      <td>...</td>\n",
       "      <td>1.0</td>\n",
       "      <td>0.0</td>\n",
       "      <td>1.0</td>\n",
       "      <td>1.0</td>\n",
       "      <td>30.0</td>\n",
       "      <td>70.0</td>\n",
       "      <td>BPAL</td>\n",
       "      <td>30-1</td>\n",
       "      <td>32-1</td>\n",
       "      <td>0</td>\n",
       "    </tr>\n",
       "    <tr>\n",
       "      <th>4</th>\n",
       "      <td>OBP</td>\n",
       "      <td>Axa</td>\n",
       "      <td>0x9A4A833DEC7FA1A5BF9AFD45A08987AE</td>\n",
       "      <td>W</td>\n",
       "      <td>1</td>\n",
       "      <td>0</td>\n",
       "      <td>1</td>\n",
       "      <td>0</td>\n",
       "      <td>0.0</td>\n",
       "      <td>100</td>\n",
       "      <td>...</td>\n",
       "      <td>1.0</td>\n",
       "      <td>0.0</td>\n",
       "      <td>1.0</td>\n",
       "      <td>1.0</td>\n",
       "      <td>30.0</td>\n",
       "      <td>70.0</td>\n",
       "      <td>BPAL</td>\n",
       "      <td>30-1</td>\n",
       "      <td>32-1</td>\n",
       "      <td>0</td>\n",
       "    </tr>\n",
       "  </tbody>\n",
       "</table>\n",
       "<p>5 rows × 30 columns</p>\n",
       "</div>"
      ],
      "text/plain": [
       "  GCO_CodSociete   GCO_CodPrestataire                       GCO_CodCompte  \\\n",
       "0            OBP  Generali Patrimoine  0x6451CED2D329C6EE21BDDF0A8B291F56   \n",
       "1            OBP                  Axa  0x72DE8FA9B6E81B0758E5A9422C6D02A8   \n",
       "2            OBP                  Axa  0xD805A06CAECAE34E4A738DC4F62A8631   \n",
       "3            OBP                  Axa  0x5664E99D4B8BC50D3F454F8BDD009A99   \n",
       "4            OBP                  Axa  0x9A4A833DEC7FA1A5BF9AFD45A08987AE   \n",
       "\n",
       "  GCO_CodTypeOrientation  GCO_IsOuvert  GCO_IsAsv  GCO_IsAssureur  GCO_IsPea  \\\n",
       "0                      W             1          0               1          0   \n",
       "1                      W             1          0               1          0   \n",
       "2                      W             1          0               1          0   \n",
       "3                      W             1          0               1          0   \n",
       "4                      W             1          0               1          0   \n",
       "\n",
       "   GCO_IsPeaPme GCO_CodProduit  ... GCO_CodObjectifPlacementMif2  \\\n",
       "0           0.0            004  ...                          1.0   \n",
       "1           0.0            100  ...                          1.0   \n",
       "2           0.0            100  ...                          1.0   \n",
       "3           0.0            100  ...                          1.0   \n",
       "4           0.0            100  ...                          1.0   \n",
       "\n",
       "  GCO_CodTypeDistributionMif2 GCO_CodProfilRisqueMif2  \\\n",
       "0                         0.0                     1.0   \n",
       "1                         0.0                     1.0   \n",
       "2                         0.0                     1.0   \n",
       "3                         0.0                     1.0   \n",
       "4                         0.0                     1.0   \n",
       "\n",
       "  GCO_CodStrategieInvestissementMif2 GCO_AllocationActionMinMif2  \\\n",
       "0                                1.0                        30.0   \n",
       "1                                1.0                        30.0   \n",
       "2                                1.0                        30.0   \n",
       "3                                1.0                        30.0   \n",
       "4                                1.0                        30.0   \n",
       "\n",
       "  GCO_AllocationActionMaxMif2  GCO_CodTarif  GCO_CodTarifDDG  GCO_CodTarifFHG  \\\n",
       "0                        70.0          BPAL             30-1             32-1   \n",
       "1                        70.0          BPAL             30-1             32-1   \n",
       "2                        70.0          BPAL             30-1             32-1   \n",
       "3                        70.0          BPAL             30-1             32-1   \n",
       "4                        70.0          BPAL             30-1             32-1   \n",
       "\n",
       "   GCO_IsNanti  \n",
       "0            0  \n",
       "1            0  \n",
       "2            0  \n",
       "3            0  \n",
       "4            0  \n",
       "\n",
       "[5 rows x 30 columns]"
      ]
     },
     "execution_count": 4,
     "metadata": {},
     "output_type": "execute_result"
    }
   ],
   "source": [
    "GeneriqueCompte=pd.read_table('GeneriqueComptes_New.txt', sep=\",\",index_col=0)\n",
    "GeneriqueCompte.head()"
   ]
  },
  {
   "cell_type": "code",
   "execution_count": 3,
   "metadata": {},
   "outputs": [
    {
     "name": "stdout",
     "output_type": "stream",
     "text": [
      "<class 'pandas.core.frame.DataFrame'>\n",
      "Int64Index: 60660 entries, 0 to 60659\n",
      "Data columns (total 30 columns):\n",
      "GCO_CodSociete                        60660 non-null object\n",
      "GCO_CodPrestataire                    60660 non-null object\n",
      "GCO_CodCompte                         60660 non-null object\n",
      "GCO_CodTypeOrientation                60660 non-null object\n",
      "GCO_IsOuvert                          60660 non-null int64\n",
      "GCO_IsAsv                             60660 non-null int64\n",
      "GCO_IsAssureur                        60660 non-null int64\n",
      "GCO_IsPea                             60660 non-null int64\n",
      "GCO_IsPeaPme                          60660 non-null float64\n",
      "GCO_CodProduit                        60660 non-null object\n",
      "GCO_LibProduit                        60660 non-null object\n",
      "GCO_TypGestion                        60660 non-null object\n",
      "GCO_LibEtatCompte                     60660 non-null object\n",
      "GCO_CodTypContrat                     60660 non-null object\n",
      "GCO_CodEnveloppeFiscale               60660 non-null object\n",
      "GCO_CodTribu                          60660 non-null object\n",
      "GCO_CodCapaciteSupportPertesMif2      60660 non-null float64\n",
      "GCO_CodProfilInvestissementMif2       60660 non-null float64\n",
      "GCO_CodToleranceRisqueMif2            60660 non-null float64\n",
      "GCO_CodHorizonPlacementMif2           60660 non-null float64\n",
      "GCO_CodObjectifPlacementMif2          60660 non-null float64\n",
      "GCO_CodTypeDistributionMif2           60660 non-null float64\n",
      "GCO_CodProfilRisqueMif2               60660 non-null float64\n",
      "GCO_CodStrategieInvestissementMif2    60660 non-null float64\n",
      "GCO_AllocationActionMinMif2           60660 non-null float64\n",
      "GCO_AllocationActionMaxMif2           60660 non-null float64\n",
      "GCO_CodTarif                          60660 non-null object\n",
      "GCO_CodTarifDDG                       60660 non-null object\n",
      "GCO_CodTarifFHG                       60660 non-null object\n",
      "GCO_IsNanti                           60660 non-null int64\n",
      "dtypes: float64(11), int64(5), object(14)\n",
      "memory usage: 14.3+ MB\n"
     ]
    }
   ],
   "source": [
    "GeneriqueCompte.info()"
   ]
  },
  {
   "cell_type": "markdown",
   "metadata": {},
   "source": [
    "#### Encodage de la colonne GCO_CodTypContrat"
   ]
  },
  {
   "cell_type": "code",
   "execution_count": 4,
   "metadata": {},
   "outputs": [
    {
     "data": {
      "text/plain": [
       "array(['ASV', 'CON', 'PEA', 'SCAALZ', 'PEAPME'], dtype=object)"
      ]
     },
     "execution_count": 4,
     "metadata": {},
     "output_type": "execute_result"
    }
   ],
   "source": [
    "GeneriqueCompte.GCO_CodTypContrat.unique()"
   ]
  },
  {
   "cell_type": "code",
   "execution_count": 5,
   "metadata": {},
   "outputs": [],
   "source": [
    "\n",
    "from sklearn.preprocessing import OneHotEncoder\n",
    "onehotencoder = OneHotEncoder()\n",
    "matrix = onehotencoder.fit_transform(GeneriqueCompte[\"GCO_CodTypContrat\"].values.reshape(-1,1)).toarray()\n",
    "data2=pd.DataFrame(matrix, columns=('ASV', 'CON', 'PEA', 'SCAALZ', 'PEAPME'))\n",
    "data3=GeneriqueCompte.drop(columns=[\"GCO_CodTypContrat\"])\n",
    "data4=pd.concat([data3,data2],axis=1)\n",
    "GeneriqueCompte=data4"
   ]
  },
  {
   "cell_type": "code",
   "execution_count": 6,
   "metadata": {},
   "outputs": [
    {
     "data": {
      "text/html": [
       "<div>\n",
       "<style scoped>\n",
       "    .dataframe tbody tr th:only-of-type {\n",
       "        vertical-align: middle;\n",
       "    }\n",
       "\n",
       "    .dataframe tbody tr th {\n",
       "        vertical-align: top;\n",
       "    }\n",
       "\n",
       "    .dataframe thead th {\n",
       "        text-align: right;\n",
       "    }\n",
       "</style>\n",
       "<table border=\"1\" class=\"dataframe\">\n",
       "  <thead>\n",
       "    <tr style=\"text-align: right;\">\n",
       "      <th></th>\n",
       "      <th>GCO_CodSociete</th>\n",
       "      <th>GCO_CodPrestataire</th>\n",
       "      <th>GCO_CodCompte</th>\n",
       "      <th>GCO_CodTypeOrientation</th>\n",
       "      <th>GCO_IsOuvert</th>\n",
       "      <th>GCO_IsAsv</th>\n",
       "      <th>GCO_IsAssureur</th>\n",
       "      <th>GCO_IsPea</th>\n",
       "      <th>GCO_IsPeaPme</th>\n",
       "      <th>GCO_CodProduit</th>\n",
       "      <th>...</th>\n",
       "      <th>GCO_AllocationActionMaxMif2</th>\n",
       "      <th>GCO_CodTarif</th>\n",
       "      <th>GCO_CodTarifDDG</th>\n",
       "      <th>GCO_CodTarifFHG</th>\n",
       "      <th>GCO_IsNanti</th>\n",
       "      <th>ASV</th>\n",
       "      <th>CON</th>\n",
       "      <th>PEA</th>\n",
       "      <th>SCAALZ</th>\n",
       "      <th>PEAPME</th>\n",
       "    </tr>\n",
       "  </thead>\n",
       "  <tbody>\n",
       "    <tr>\n",
       "      <th>0</th>\n",
       "      <td>OBP</td>\n",
       "      <td>Generali Patrimoine</td>\n",
       "      <td>0x6451CED2D329C6EE21BDDF0A8B291F56</td>\n",
       "      <td>W</td>\n",
       "      <td>1</td>\n",
       "      <td>0</td>\n",
       "      <td>1</td>\n",
       "      <td>0</td>\n",
       "      <td>0.0</td>\n",
       "      <td>004</td>\n",
       "      <td>...</td>\n",
       "      <td>70.0</td>\n",
       "      <td>BPAL</td>\n",
       "      <td>30-1</td>\n",
       "      <td>32-1</td>\n",
       "      <td>0</td>\n",
       "      <td>1.0</td>\n",
       "      <td>0.0</td>\n",
       "      <td>0.0</td>\n",
       "      <td>0.0</td>\n",
       "      <td>0.0</td>\n",
       "    </tr>\n",
       "    <tr>\n",
       "      <th>1</th>\n",
       "      <td>OBP</td>\n",
       "      <td>Axa</td>\n",
       "      <td>0x72DE8FA9B6E81B0758E5A9422C6D02A8</td>\n",
       "      <td>W</td>\n",
       "      <td>1</td>\n",
       "      <td>0</td>\n",
       "      <td>1</td>\n",
       "      <td>0</td>\n",
       "      <td>0.0</td>\n",
       "      <td>100</td>\n",
       "      <td>...</td>\n",
       "      <td>70.0</td>\n",
       "      <td>BPAL</td>\n",
       "      <td>30-1</td>\n",
       "      <td>32-1</td>\n",
       "      <td>0</td>\n",
       "      <td>1.0</td>\n",
       "      <td>0.0</td>\n",
       "      <td>0.0</td>\n",
       "      <td>0.0</td>\n",
       "      <td>0.0</td>\n",
       "    </tr>\n",
       "    <tr>\n",
       "      <th>2</th>\n",
       "      <td>OBP</td>\n",
       "      <td>Axa</td>\n",
       "      <td>0xD805A06CAECAE34E4A738DC4F62A8631</td>\n",
       "      <td>W</td>\n",
       "      <td>1</td>\n",
       "      <td>0</td>\n",
       "      <td>1</td>\n",
       "      <td>0</td>\n",
       "      <td>0.0</td>\n",
       "      <td>100</td>\n",
       "      <td>...</td>\n",
       "      <td>70.0</td>\n",
       "      <td>BPAL</td>\n",
       "      <td>30-1</td>\n",
       "      <td>32-1</td>\n",
       "      <td>0</td>\n",
       "      <td>1.0</td>\n",
       "      <td>0.0</td>\n",
       "      <td>0.0</td>\n",
       "      <td>0.0</td>\n",
       "      <td>0.0</td>\n",
       "    </tr>\n",
       "    <tr>\n",
       "      <th>3</th>\n",
       "      <td>OBP</td>\n",
       "      <td>Axa</td>\n",
       "      <td>0x5664E99D4B8BC50D3F454F8BDD009A99</td>\n",
       "      <td>W</td>\n",
       "      <td>1</td>\n",
       "      <td>0</td>\n",
       "      <td>1</td>\n",
       "      <td>0</td>\n",
       "      <td>0.0</td>\n",
       "      <td>100</td>\n",
       "      <td>...</td>\n",
       "      <td>70.0</td>\n",
       "      <td>BPAL</td>\n",
       "      <td>30-1</td>\n",
       "      <td>32-1</td>\n",
       "      <td>0</td>\n",
       "      <td>1.0</td>\n",
       "      <td>0.0</td>\n",
       "      <td>0.0</td>\n",
       "      <td>0.0</td>\n",
       "      <td>0.0</td>\n",
       "    </tr>\n",
       "    <tr>\n",
       "      <th>4</th>\n",
       "      <td>OBP</td>\n",
       "      <td>Axa</td>\n",
       "      <td>0x9A4A833DEC7FA1A5BF9AFD45A08987AE</td>\n",
       "      <td>W</td>\n",
       "      <td>1</td>\n",
       "      <td>0</td>\n",
       "      <td>1</td>\n",
       "      <td>0</td>\n",
       "      <td>0.0</td>\n",
       "      <td>100</td>\n",
       "      <td>...</td>\n",
       "      <td>70.0</td>\n",
       "      <td>BPAL</td>\n",
       "      <td>30-1</td>\n",
       "      <td>32-1</td>\n",
       "      <td>0</td>\n",
       "      <td>1.0</td>\n",
       "      <td>0.0</td>\n",
       "      <td>0.0</td>\n",
       "      <td>0.0</td>\n",
       "      <td>0.0</td>\n",
       "    </tr>\n",
       "  </tbody>\n",
       "</table>\n",
       "<p>5 rows × 34 columns</p>\n",
       "</div>"
      ],
      "text/plain": [
       "  GCO_CodSociete   GCO_CodPrestataire                       GCO_CodCompte  \\\n",
       "0            OBP  Generali Patrimoine  0x6451CED2D329C6EE21BDDF0A8B291F56   \n",
       "1            OBP                  Axa  0x72DE8FA9B6E81B0758E5A9422C6D02A8   \n",
       "2            OBP                  Axa  0xD805A06CAECAE34E4A738DC4F62A8631   \n",
       "3            OBP                  Axa  0x5664E99D4B8BC50D3F454F8BDD009A99   \n",
       "4            OBP                  Axa  0x9A4A833DEC7FA1A5BF9AFD45A08987AE   \n",
       "\n",
       "  GCO_CodTypeOrientation  GCO_IsOuvert  GCO_IsAsv  GCO_IsAssureur  GCO_IsPea  \\\n",
       "0                      W             1          0               1          0   \n",
       "1                      W             1          0               1          0   \n",
       "2                      W             1          0               1          0   \n",
       "3                      W             1          0               1          0   \n",
       "4                      W             1          0               1          0   \n",
       "\n",
       "   GCO_IsPeaPme GCO_CodProduit   ...   GCO_AllocationActionMaxMif2  \\\n",
       "0           0.0            004   ...                          70.0   \n",
       "1           0.0            100   ...                          70.0   \n",
       "2           0.0            100   ...                          70.0   \n",
       "3           0.0            100   ...                          70.0   \n",
       "4           0.0            100   ...                          70.0   \n",
       "\n",
       "  GCO_CodTarif GCO_CodTarifDDG GCO_CodTarifFHG GCO_IsNanti  ASV  CON  PEA  \\\n",
       "0         BPAL            30-1            32-1           0  1.0  0.0  0.0   \n",
       "1         BPAL            30-1            32-1           0  1.0  0.0  0.0   \n",
       "2         BPAL            30-1            32-1           0  1.0  0.0  0.0   \n",
       "3         BPAL            30-1            32-1           0  1.0  0.0  0.0   \n",
       "4         BPAL            30-1            32-1           0  1.0  0.0  0.0   \n",
       "\n",
       "   SCAALZ  PEAPME  \n",
       "0     0.0     0.0  \n",
       "1     0.0     0.0  \n",
       "2     0.0     0.0  \n",
       "3     0.0     0.0  \n",
       "4     0.0     0.0  \n",
       "\n",
       "[5 rows x 34 columns]"
      ]
     },
     "execution_count": 6,
     "metadata": {},
     "output_type": "execute_result"
    }
   ],
   "source": [
    "GeneriqueCompte.head()"
   ]
  },
  {
   "cell_type": "code",
   "execution_count": 7,
   "metadata": {},
   "outputs": [
    {
     "data": {
      "text/plain": [
       "Index(['GCO_CodSociete', 'GCO_CodPrestataire', 'GCO_CodCompte',\n",
       "       'GCO_CodTypeOrientation', 'GCO_IsOuvert', 'GCO_IsAsv', 'GCO_IsAssureur',\n",
       "       'GCO_IsPea', 'GCO_IsPeaPme', 'GCO_CodProduit', 'GCO_LibProduit',\n",
       "       'GCO_TypGestion', 'GCO_LibEtatCompte', 'GCO_CodEnveloppeFiscale',\n",
       "       'GCO_CodTribu', 'GCO_CodCapaciteSupportPertesMif2',\n",
       "       'GCO_CodProfilInvestissementMif2', 'GCO_CodToleranceRisqueMif2',\n",
       "       'GCO_CodHorizonPlacementMif2', 'GCO_CodObjectifPlacementMif2',\n",
       "       'GCO_CodTypeDistributionMif2', 'GCO_CodProfilRisqueMif2',\n",
       "       'GCO_CodStrategieInvestissementMif2', 'GCO_AllocationActionMinMif2',\n",
       "       'GCO_AllocationActionMaxMif2', 'GCO_CodTarif', 'GCO_CodTarifDDG',\n",
       "       'GCO_CodTarifFHG', 'GCO_IsNanti', 'ASV', 'CON', 'PEA', 'SCAALZ',\n",
       "       'PEAPME'],\n",
       "      dtype='object')"
      ]
     },
     "execution_count": 7,
     "metadata": {},
     "output_type": "execute_result"
    }
   ],
   "source": [
    "GeneriqueCompte.columns"
   ]
  },
  {
   "cell_type": "markdown",
   "metadata": {},
   "source": [
    "#### Encodage de la colonne GCO_LibEtatCompte"
   ]
  },
  {
   "cell_type": "code",
   "execution_count": 7,
   "metadata": {},
   "outputs": [],
   "source": [
    "from sklearn.preprocessing import LabelEncoder\n",
    "label_enc = LabelEncoder()\n",
    "etat_enc = label_enc.fit_transform(GeneriqueCompte[\"GCO_LibEtatCompte\"].values)\n",
    "etat = np.array(GeneriqueCompte.GCO_LibEtatCompte)\n",
    "GeneriqueCompte.GCO_LibEtatCompte = etat_enc"
   ]
  },
  {
   "cell_type": "code",
   "execution_count": 8,
   "metadata": {},
   "outputs": [],
   "source": [
    "GeneriqueCompte=GeneriqueCompte.drop(columns=['GCO_CodTarif','GCO_CodTarifDDG','GCO_CodTarifFHG','GCO_CodSociete','GCO_CodPrestataire','GCO_CodCompte','GCO_CodProduit','GCO_LibProduit','GCO_TypGestion','GCO_CodEnveloppeFiscale','GCO_CodTribu','GCO_CodTypeOrientation'])"
   ]
  },
  {
   "cell_type": "code",
   "execution_count": 48,
   "metadata": {},
   "outputs": [
    {
     "name": "stdout",
     "output_type": "stream",
     "text": [
      "<class 'pandas.core.frame.DataFrame'>\n",
      "Int64Index: 60660 entries, 0 to 60659\n",
      "Data columns (total 22 columns):\n",
      "GCO_IsOuvert                          60660 non-null int64\n",
      "GCO_IsAsv                             60660 non-null int64\n",
      "GCO_IsAssureur                        60660 non-null int64\n",
      "GCO_IsPea                             60660 non-null int64\n",
      "GCO_IsPeaPme                          60660 non-null float64\n",
      "GCO_LibEtatCompte                     60660 non-null int32\n",
      "GCO_CodCapaciteSupportPertesMif2      60660 non-null float64\n",
      "GCO_CodProfilInvestissementMif2       60660 non-null float64\n",
      "GCO_CodToleranceRisqueMif2            60660 non-null float64\n",
      "GCO_CodHorizonPlacementMif2           60660 non-null float64\n",
      "GCO_CodObjectifPlacementMif2          60660 non-null float64\n",
      "GCO_CodTypeDistributionMif2           60660 non-null float64\n",
      "GCO_CodProfilRisqueMif2               60660 non-null float64\n",
      "GCO_CodStrategieInvestissementMif2    60660 non-null float64\n",
      "GCO_AllocationActionMinMif2           60660 non-null float64\n",
      "GCO_AllocationActionMaxMif2           60660 non-null float64\n",
      "GCO_IsNanti                           60660 non-null int64\n",
      "ASV                                   60660 non-null float64\n",
      "CON                                   60660 non-null float64\n",
      "PEA                                   60660 non-null float64\n",
      "SCAALZ                                60660 non-null float64\n",
      "PEAPME                                60660 non-null float64\n",
      "dtypes: float64(16), int32(1), int64(5)\n",
      "memory usage: 10.4 MB\n"
     ]
    }
   ],
   "source": [
    "GeneriqueCompte.info()"
   ]
  },
  {
   "cell_type": "markdown",
   "metadata": {},
   "source": [
    "## Prédiction de la Capacité du client à tolérer le risque de perte financière"
   ]
  },
  {
   "cell_type": "code",
   "execution_count": 9,
   "metadata": {},
   "outputs": [],
   "source": [
    "y=GeneriqueCompte.iloc[:,8]\n",
    "X=GeneriqueCompte.iloc[:,[0,1,2,3,4,5,6,7,9,10,11,12,13,14,15,16,17,18,19,20,21]].values"
   ]
  },
  {
   "cell_type": "code",
   "execution_count": 10,
   "metadata": {},
   "outputs": [],
   "source": [
    "from sklearn.model_selection import train_test_split\n",
    "X_train, X_test, y_train, y_test = train_test_split(X, y, random_state=0)"
   ]
  },
  {
   "cell_type": "markdown",
   "metadata": {},
   "source": [
    "### Arbre de décision "
   ]
  },
  {
   "cell_type": "code",
   "execution_count": 11,
   "metadata": {},
   "outputs": [],
   "source": [
    "from sklearn.tree import DecisionTreeClassifier\n",
    "dtc = DecisionTreeClassifier()\n",
    "dtc_model = DecisionTreeClassifier().fit(X_train, y_train)\n",
    "y_pred_dtc = dtc_model.predict(X_test)"
   ]
  },
  {
   "cell_type": "code",
   "execution_count": 12,
   "metadata": {},
   "outputs": [
    {
     "name": "stdout",
     "output_type": "stream",
     "text": [
      "0.9699307616221563\n",
      "[[ 2142     2     1     0     0]\n",
      " [    3 10488    17     4     0]\n",
      " [    1    62   822    42     1]\n",
      " [    1     2    91  1253    11]\n",
      " [    0     0    15   203     4]]\n",
      "              precision    recall  f1-score   support\n",
      "\n",
      "         0.0       1.00      1.00      1.00      2145\n",
      "         1.0       0.99      1.00      1.00     10512\n",
      "         3.0       0.87      0.89      0.88       928\n",
      "         5.0       0.83      0.92      0.88      1358\n",
      "         7.0       0.25      0.02      0.03       222\n",
      "\n",
      "   micro avg       0.97      0.97      0.97     15165\n",
      "   macro avg       0.79      0.76      0.76     15165\n",
      "weighted avg       0.96      0.97      0.96     15165\n",
      "\n"
     ]
    }
   ],
   "source": [
    "from sklearn.metrics import classification_report,confusion_matrix,accuracy_score\n",
    "print(accuracy_score(y_test, y_pred_dtc))\n",
    "print(confusion_matrix(y_test, y_pred_dtc))\n",
    "print(classification_report(y_test, y_pred_dtc))"
   ]
  },
  {
   "cell_type": "markdown",
   "metadata": {},
   "source": [
    "### Random Forest"
   ]
  },
  {
   "cell_type": "code",
   "execution_count": 13,
   "metadata": {},
   "outputs": [
    {
     "name": "stderr",
     "output_type": "stream",
     "text": [
      "C:\\Users\\SL-WASSIM\\Anaconda3\\lib\\site-packages\\sklearn\\ensemble\\forest.py:246: FutureWarning: The default value of n_estimators will change from 10 in version 0.20 to 100 in 0.22.\n",
      "  \"10 in version 0.20 to 100 in 0.22.\", FutureWarning)\n"
     ]
    }
   ],
   "source": [
    "from sklearn.ensemble import RandomForestClassifier\n",
    "rfc = RandomForestClassifier()\n",
    "rfc_model = rfc.fit(X_train, y_train)\n",
    "y_pred_rfc = rfc_model.predict(X_test)"
   ]
  },
  {
   "cell_type": "code",
   "execution_count": 14,
   "metadata": {},
   "outputs": [
    {
     "name": "stdout",
     "output_type": "stream",
     "text": [
      "0.9683481701285855\n",
      "              precision    recall  f1-score   support\n",
      "\n",
      "         0.0       1.00      1.00      1.00      2145\n",
      "         1.0       0.99      1.00      1.00     10512\n",
      "         3.0       0.88      0.86      0.87       928\n",
      "         5.0       0.82      0.93      0.87      1358\n",
      "         7.0       0.22      0.03      0.05       222\n",
      "\n",
      "   micro avg       0.97      0.97      0.97     15165\n",
      "   macro avg       0.78      0.76      0.76     15165\n",
      "weighted avg       0.96      0.97      0.96     15165\n",
      "\n",
      "[[ 2140     3     2     0     0]\n",
      " [    3 10479    27     3     0]\n",
      " [    0    60   796    72     0]\n",
      " [    1     3    69  1264    21]\n",
      " [    0     0    14   202     6]]\n"
     ]
    }
   ],
   "source": [
    "print(accuracy_score(y_test, y_pred_rfc))\n",
    "print(classification_report(y_test, y_pred_rfc))\n",
    "print(confusion_matrix(y_test, y_pred_rfc))"
   ]
  },
  {
   "cell_type": "markdown",
   "metadata": {},
   "source": [
    "### KNN"
   ]
  },
  {
   "cell_type": "code",
   "execution_count": 18,
   "metadata": {},
   "outputs": [
    {
     "data": {
      "text/plain": [
       "Text(0, 0.5, 'Erreur')"
      ]
     },
     "execution_count": 18,
     "metadata": {},
     "output_type": "execute_result"
    },
    {
     "data": {
      "image/png": "[encoded data removed]",
      "text/plain": [
       "<Figure size 864x432 with 1 Axes>"
      ]
     },
     "metadata": {
      "needs_background": "light"
     },
     "output_type": "display_data"
    }
   ],
   "source": [
    "from sklearn.neighbors import KNeighborsClassifier\n",
    "error = []\n",
    "for i in range(1, 40):\n",
    "    knn = KNeighborsClassifier(i)\n",
    "    knn_model = knn.fit(X_train, y_train)\n",
    "    pred_i = knn_model.predict(X_test)\n",
    "    error.append(np.mean(pred_i != y_test))\n",
    "plt.figure(figsize=(12, 6))\n",
    "plt.plot(range(1, 40), error, color='red', linestyle='dashed', marker='o',\n",
    "         markerfacecolor='blue', markersize=10)\n",
    "plt.title('Taux Erreur pour les differentes valeurs de k')\n",
    "plt.xlabel('K ')\n",
    "plt.ylabel('Erreur')"
   ]
  },
  {
   "cell_type": "code",
   "execution_count": 19,
   "metadata": {},
   "outputs": [],
   "source": [
    "from sklearn.neighbors import KNeighborsClassifier\n",
    "knn = KNeighborsClassifier(6)#si on veut utiliser la distance manhattan donc:metric='manhattan'\n",
    "knn_model = knn.fit(X_train, y_train)\n",
    "y_pred_knn = knn_model.predict(X_test)"
   ]
  },
  {
   "cell_type": "code",
   "execution_count": 20,
   "metadata": {},
   "outputs": [
    {
     "name": "stdout",
     "output_type": "stream",
     "text": [
      "0.9699307616221563\n",
      "[[ 2138     6     0     1     0]\n",
      " [    3 10490    17     2     0]\n",
      " [    0    66   825    37     0]\n",
      " [    3     5    91  1250     9]\n",
      " [    1     0    12   203     6]]\n",
      "              precision    recall  f1-score   support\n",
      "\n",
      "         0.0       1.00      1.00      1.00      2145\n",
      "         1.0       0.99      1.00      1.00     10512\n",
      "         3.0       0.87      0.89      0.88       928\n",
      "         5.0       0.84      0.92      0.88      1358\n",
      "         7.0       0.40      0.03      0.05       222\n",
      "\n",
      "   micro avg       0.97      0.97      0.97     15165\n",
      "   macro avg       0.82      0.77      0.76     15165\n",
      "weighted avg       0.96      0.97      0.96     15165\n",
      "\n"
     ]
    }
   ],
   "source": [
    "print(accuracy_score(y_test,y_pred_knn))\n",
    "print(confusion_matrix(y_test, y_pred_knn))\n",
    "print(classification_report(y_test, y_pred_knn))"
   ]
  },
  {
   "cell_type": "markdown",
   "metadata": {},
   "source": [
    "### Courbe ROC"
   ]
  },
  {
   "cell_type": "code",
   "execution_count": 22,
   "metadata": {},
   "outputs": [],
   "source": [
    "proba_tree = dtc_model.predict_proba(X_test)\n",
    "proba_knn  = knn_model.predict_proba(X_test)\n",
    "proba_Rf  = rfc_model.predict_proba(X_test)"
   ]
  },
  {
   "cell_type": "code",
   "execution_count": 37,
   "metadata": {},
   "outputs": [
    {
     "data": {
      "image/png": "[encoded data removed]",
      "text/plain": [
       "<Figure size 432x288 with 1 Axes>"
      ]
     },
     "metadata": {
      "needs_background": "light"
     },
     "output_type": "display_data"
    }
   ],
   "source": [
    "from sklearn import metrics\n",
    "preds_tree = proba_tree[:,0]\n",
    "preds_knn  = proba_knn[:,0]\n",
    "preds_Rf   = proba_Rf[:,0]\n",
    "fpr, tpr, threshold = metrics.roc_curve(y_test, preds_knn, pos_label=1.0)\n",
    "fprr, tprr, threshold = metrics.roc_curve(y_test, preds_tree, pos_label=1.0)\n",
    "fprrr, tprrr, threshold = metrics.roc_curve(y_test, preds_Rf, pos_label=1.0)\n",
    "import matplotlib.pyplot as plt\n",
    "plt.title('Courbe Roc pour \"1.0\"')\n",
    "plt.plot(fprr,tprr ,color='yellow')\n",
    "plt.plot(fpr,tpr,color='green')\n",
    "plt.plot(fprrr,tprrr, color='red')\n",
    "plt.ylabel('True Positive ')\n",
    "plt.xlabel('False Positive ')\n",
    "plt.show()"
   ]
  },
  {
   "cell_type": "markdown",
   "metadata": {},
   "source": [
    "## Prédiction si le compte est nanti"
   ]
  },
  {
   "cell_type": "code",
   "execution_count": 24,
   "metadata": {},
   "outputs": [
    {
     "data": {
      "text/plain": [
       "array([1., 5., 0., 3., 7.])"
      ]
     },
     "execution_count": 24,
     "metadata": {},
     "output_type": "execute_result"
    }
   ],
   "source": [
    "y_nanti=GeneriqueCompte.iloc[:,16]\n",
    "X_nanti=GeneriqueCompte.iloc[:,[0,1,2,3,4,5,6,7,8,9,10,11,12,13,14,15,17,18,19,20,21]].values\n",
    "y.unique()"
   ]
  },
  {
   "cell_type": "code",
   "execution_count": 25,
   "metadata": {},
   "outputs": [],
   "source": [
    "from sklearn.model_selection import train_test_split\n",
    "X_train_nanti, X_test_nanti, y_train_nanti, y_test_nanti = train_test_split(X_nanti, y_nanti, random_state=0)"
   ]
  },
  {
   "cell_type": "markdown",
   "metadata": {},
   "source": [
    "### Arbre de décision "
   ]
  },
  {
   "cell_type": "code",
   "execution_count": 26,
   "metadata": {},
   "outputs": [],
   "source": [
    "from sklearn.tree import DecisionTreeClassifier\n",
    "dtc = DecisionTreeClassifier()\n",
    "dtc_model_nanti = DecisionTreeClassifier().fit(X_train_nanti, y_train_nanti)\n",
    "y_pred_nanti_dtc = dtc_model_nanti.predict(X_test_nanti)"
   ]
  },
  {
   "cell_type": "code",
   "execution_count": 27,
   "metadata": {},
   "outputs": [
    {
     "name": "stdout",
     "output_type": "stream",
     "text": [
      "0.9999340586877679\n",
      "[[15033     1]\n",
      " [    0   131]]\n",
      "              precision    recall  f1-score   support\n",
      "\n",
      "           0       1.00      1.00      1.00     15034\n",
      "           1       0.99      1.00      1.00       131\n",
      "\n",
      "   micro avg       1.00      1.00      1.00     15165\n",
      "   macro avg       1.00      1.00      1.00     15165\n",
      "weighted avg       1.00      1.00      1.00     15165\n",
      "\n"
     ]
    }
   ],
   "source": [
    "print(accuracy_score(y_test_nanti, y_pred_nanti_dtc))\n",
    "print(confusion_matrix(y_test_nanti, y_pred_nanti_dtc))\n",
    "print(classification_report(y_test_nanti, y_pred_nanti_dtc))"
   ]
  },
  {
   "cell_type": "markdown",
   "metadata": {},
   "source": [
    "### Random Forest"
   ]
  },
  {
   "cell_type": "code",
   "execution_count": 30,
   "metadata": {},
   "outputs": [
    {
     "name": "stderr",
     "output_type": "stream",
     "text": [
      "C:\\Users\\SL-WASSIM\\Anaconda3\\lib\\site-packages\\sklearn\\ensemble\\forest.py:246: FutureWarning: The default value of n_estimators will change from 10 in version 0.20 to 100 in 0.22.\n",
      "  \"10 in version 0.20 to 100 in 0.22.\", FutureWarning)\n"
     ]
    }
   ],
   "source": [
    "from sklearn.ensemble import RandomForestClassifier\n",
    "rfc = RandomForestClassifier()\n",
    "rfc_model_nanti = rfc.fit(X_train_nanti, y_train_nanti)\n",
    "y_pred_nanti_rfc = rfc_model_nanti.predict(X_test_nanti)"
   ]
  },
  {
   "cell_type": "code",
   "execution_count": 31,
   "metadata": {},
   "outputs": [
    {
     "name": "stdout",
     "output_type": "stream",
     "text": [
      "0.9990108803165183\n",
      "              precision    recall  f1-score   support\n",
      "\n",
      "           0       1.00      1.00      1.00     15034\n",
      "           1       0.91      0.98      0.94       131\n",
      "\n",
      "   micro avg       1.00      1.00      1.00     15165\n",
      "   macro avg       0.96      0.99      0.97     15165\n",
      "weighted avg       1.00      1.00      1.00     15165\n",
      "\n",
      "[[15022    12]\n",
      " [    3   128]]\n"
     ]
    }
   ],
   "source": [
    "print(accuracy_score(y_test_nanti, y_pred_nanti_rfc))\n",
    "print(classification_report(y_test_nanti, y_pred_nanti_rfc))\n",
    "print(confusion_matrix(y_test_nanti, y_pred_nanti_rfc))"
   ]
  },
  {
   "cell_type": "markdown",
   "metadata": {},
   "source": [
    "### KNN"
   ]
  },
  {
   "cell_type": "code",
   "execution_count": 32,
   "metadata": {},
   "outputs": [
    {
     "data": {
      "text/plain": [
       "Text(0, 0.5, 'Erreur')"
      ]
     },
     "execution_count": 32,
     "metadata": {},
     "output_type": "execute_result"
    },
    {
     "data": {
      "image/png": "[encoded data removed]",
      "text/plain": [
       "<Figure size 864x432 with 1 Axes>"
      ]
     },
     "metadata": {
      "needs_background": "light"
     },
     "output_type": "display_data"
    }
   ],
   "source": [
    "from sklearn.neighbors import KNeighborsClassifier\n",
    "error_nanti = []\n",
    "for i in range(1, 40):\n",
    "    knn_nanti = KNeighborsClassifier(i)\n",
    "    knn_model_nanti = knn_nanti.fit(X_train_nanti, y_train_nanti)\n",
    "    pred_i_nanti = knn_model_nanti.predict(X_test_nanti)\n",
    "    error_nanti.append(np.mean(pred_i_nanti != y_test_nanti))\n",
    "plt.figure(figsize=(12, 6))\n",
    "plt.plot(range(1, 40), error, color='red', linestyle='dashed', marker='o',\n",
    "         markerfacecolor='blue', markersize=10)\n",
    "plt.title('Taux Erreur pour les differentes valeurs de k')\n",
    "plt.xlabel('K ')\n",
    "plt.ylabel('Erreur')"
   ]
  },
  {
   "cell_type": "code",
   "execution_count": 33,
   "metadata": {},
   "outputs": [],
   "source": [
    "from sklearn.neighbors import KNeighborsClassifier\n",
    "knn = KNeighborsClassifier(6)#si on veut utiliser la distance manhattan donc:metric='manhattan'\n",
    "knn_model_nanti = knn.fit(X_train_nanti, y_train_nanti)\n",
    "y_pred_nanti_knn = knn_model_nanti.predict(X_test_nanti)"
   ]
  },
  {
   "cell_type": "code",
   "execution_count": 34,
   "metadata": {},
   "outputs": [
    {
     "name": "stdout",
     "output_type": "stream",
     "text": [
      "0.9986811737553577\n",
      "[[15028     6]\n",
      " [   14   117]]\n",
      "              precision    recall  f1-score   support\n",
      "\n",
      "           0       1.00      1.00      1.00     15034\n",
      "           1       0.95      0.89      0.92       131\n",
      "\n",
      "   micro avg       1.00      1.00      1.00     15165\n",
      "   macro avg       0.98      0.95      0.96     15165\n",
      "weighted avg       1.00      1.00      1.00     15165\n",
      "\n"
     ]
    }
   ],
   "source": [
    "print(accuracy_score(y_test_nanti,y_pred_nanti_knn))\n",
    "print(confusion_matrix(y_test_nanti, y_pred_nanti_knn))\n",
    "print(classification_report(y_test_nanti, y_pred_nanti_knn))"
   ]
  },
  {
   "cell_type": "markdown",
   "metadata": {},
   "source": [
    "### Courbe ROC"
   ]
  },
  {
   "cell_type": "code",
   "execution_count": 35,
   "metadata": {},
   "outputs": [
    {
     "data": {
      "image/png": "[encoded data removed]",
      "text/plain": [
       "<Figure size 432x288 with 1 Axes>"
      ]
     },
     "metadata": {
      "needs_background": "light"
     },
     "output_type": "display_data"
    }
   ],
   "source": [
    "proba_tree_nanti = dtc_model_nanti.predict_proba(X_test_nanti)\n",
    "proba_knn_nanti  = knn_model_nanti.predict_proba(X_test_nanti)\n",
    "proba_Rf_nanti  = rfc_model_nanti.predict_proba(X_test_nanti)\n",
    "from sklearn import metrics\n",
    "preds_tree_nanti = proba_tree_nanti[:,0]\n",
    "preds_knn_nanti  = proba_knn_nanti[:,0]\n",
    "preds_Rf_nanti   = proba_Rf_nanti[:,0]\n",
    "fpr_nanti, tpr_nanti, threshold = metrics.roc_curve(y_test_nanti, preds_knn_nanti, pos_label=0)\n",
    "fprr_nanti, tprr_nanti, threshold = metrics.roc_curve(y_test_nanti, preds_tree_nanti, pos_label=0)\n",
    "fprrr_nanti, tprrr_nanti, threshold = metrics.roc_curve(y_test_nanti, preds_Rf_nanti, pos_label=0)\n",
    "import matplotlib.pyplot as plt\n",
    "plt.title('Courbe Roc pour non nanti')\n",
    "plt.plot(fprr_nanti,tprr_nanti, color='red')\n",
    "plt.plot(fpr_nanti,tpr_nanti, color='green')\n",
    "plt.plot(fprrr_nanti,tprrr_nanti,color='yellow')\n",
    "plt.ylabel('True Positive ')\n",
    "plt.xlabel('False Positive ')\n",
    "plt.show()"
   ]
  }
 ],
 "metadata": {
  "kernelspec": {
   "display_name": "Python 3",
   "language": "python",
   "name": "python3"
  },
  "language_info": {
   "codemirror_mode": {
    "name": "ipython",
    "version": 3
   },
   "file_extension": ".py",
   "mimetype": "text/x-python",
   "name": "python",
   "nbconvert_exporter": "python",
   "pygments_lexer": "ipython3",
   "version": "3.7.3"
  }
 },
 "nbformat": 4,
 "nbformat_minor": 2
}
