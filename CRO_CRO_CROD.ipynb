{
 "cells": [
  {
   "cell_type": "markdown",
   "metadata": {},
   "source": [
    "# CRO CRO CROD"
   ]
  },
  {
   "cell_type": "code",
   "execution_count": 1,
   "metadata": {},
   "outputs": [],
   "source": [
    "import pandas as pd\n",
    "import numpy as np"
   ]
  },
  {
   "cell_type": "markdown",
   "metadata": {},
   "source": [
    "## Importation des données "
   ]
  },
  {
   "cell_type": "code",
   "execution_count": 2,
   "metadata": {},
   "outputs": [
    {
     "name": "stderr",
     "output_type": "stream",
     "text": [
      "C:\\Users\\SL-WASSIM\\Anaconda3\\lib\\site-packages\\ipykernel_launcher.py:1: FutureWarning: read_table is deprecated, use read_csv instead.\n",
      "  \"\"\"Entry point for launching an IPython kernel.\n",
      "C:\\Users\\SL-WASSIM\\Anaconda3\\lib\\site-packages\\IPython\\core\\interactiveshell.py:3049: DtypeWarning: Columns (13) have mixed types. Specify dtype option on import or set low_memory=False.\n",
      "  interactivity=interactivity, compiler=compiler, result=result)\n",
      "C:\\Users\\SL-WASSIM\\Anaconda3\\lib\\site-packages\\numpy\\lib\\arraysetops.py:569: FutureWarning: elementwise comparison failed; returning scalar instead, but in the future will perform elementwise comparison\n",
      "  mask |= (ar1 == a)\n"
     ]
    }
   ],
   "source": [
    "Cro = pd.read_table(\"CRO_CRO_CROD_New.txt\",sep=\",\",index_col=0)\n"
   ]
  },
  {
   "cell_type": "code",
   "execution_count": 3,
   "metadata": {},
   "outputs": [
    {
     "data": {
      "text/plain": [
       "array(['A', 'V', 'C', 'D'], dtype=object)"
      ]
     },
     "execution_count": 3,
     "metadata": {},
     "output_type": "execute_result"
    }
   ],
   "source": [
    "Cro.CRO_CodSens.unique()"
   ]
  },
  {
   "cell_type": "code",
   "execution_count": 4,
   "metadata": {},
   "outputs": [
    {
     "data": {
      "text/plain": [
       "CRO_CodSociete             0\n",
       "CRO_CodCompte              0\n",
       "CRO_Dateffet               0\n",
       "CRO_CodOperation           0\n",
       "CRO_LibOperation           0\n",
       "CRO_CodAnnulation    4558739\n",
       "CRO_CodSens                0\n",
       "CRO_CodIsin                0\n",
       "CRO_Qte                    0\n",
       "CRO_Crs                    0\n",
       "CRO_MntBrutDevDep          0\n",
       "ESO_CodType                0\n",
       "ESO_CodProvenance    4671605\n",
       "dtype: int64"
      ]
     },
     "execution_count": 4,
     "metadata": {},
     "output_type": "execute_result"
    }
   ],
   "source": [
    "Cro.isna().sum()"
   ]
  },
  {
   "cell_type": "code",
   "execution_count": 5,
   "metadata": {},
   "outputs": [
    {
     "data": {
      "text/plain": [
       "(4814343, 13)"
      ]
     },
     "execution_count": 5,
     "metadata": {},
     "output_type": "execute_result"
    }
   ],
   "source": [
    "Cro.shape"
   ]
  },
  {
   "cell_type": "markdown",
   "metadata": {},
   "source": [
    "## Suppression des colonnes inutiles "
   ]
  },
  {
   "cell_type": "code",
   "execution_count": 6,
   "metadata": {},
   "outputs": [],
   "source": [
    "Cro_crod=Cro.drop(columns=['CRO_CodAnnulation','ESO_CodProvenance','CRO_CodSociete','CRO_CodCompte','CRO_Dateffet','CRO_CodOperation','CRO_CodSens','CRO_CodIsin'])"
   ]
  },
  {
   "cell_type": "code",
   "execution_count": 7,
   "metadata": {},
   "outputs": [
    {
     "data": {
      "text/html": [
       "<div>\n",
       "<style scoped>\n",
       "    .dataframe tbody tr th:only-of-type {\n",
       "        vertical-align: middle;\n",
       "    }\n",
       "\n",
       "    .dataframe tbody tr th {\n",
       "        vertical-align: top;\n",
       "    }\n",
       "\n",
       "    .dataframe thead th {\n",
       "        text-align: right;\n",
       "    }\n",
       "</style>\n",
       "<table border=\"1\" class=\"dataframe\">\n",
       "  <thead>\n",
       "    <tr style=\"text-align: right;\">\n",
       "      <th></th>\n",
       "      <th>CRO_LibOperation</th>\n",
       "      <th>CRO_Qte</th>\n",
       "      <th>CRO_Crs</th>\n",
       "      <th>CRO_MntBrutDevDep</th>\n",
       "      <th>ESO_CodType</th>\n",
       "    </tr>\n",
       "  </thead>\n",
       "  <tbody>\n",
       "    <tr>\n",
       "      <th>26842</th>\n",
       "      <td>Affectation vente</td>\n",
       "      <td>125.0</td>\n",
       "      <td>26.4700</td>\n",
       "      <td>-3308.75</td>\n",
       "      <td>E</td>\n",
       "    </tr>\n",
       "    <tr>\n",
       "      <th>26843</th>\n",
       "      <td>Affectation achat</td>\n",
       "      <td>250.0</td>\n",
       "      <td>26.5350</td>\n",
       "      <td>-6633.75</td>\n",
       "      <td>E</td>\n",
       "    </tr>\n",
       "    <tr>\n",
       "      <th>26844</th>\n",
       "      <td>Affectation vente</td>\n",
       "      <td>-100.0</td>\n",
       "      <td>26.6998</td>\n",
       "      <td>2669.98</td>\n",
       "      <td>E</td>\n",
       "    </tr>\n",
       "    <tr>\n",
       "      <th>26845</th>\n",
       "      <td>Affectation vente</td>\n",
       "      <td>-100.0</td>\n",
       "      <td>26.8350</td>\n",
       "      <td>2683.50</td>\n",
       "      <td>E</td>\n",
       "    </tr>\n",
       "    <tr>\n",
       "      <th>26846</th>\n",
       "      <td>Affectation vente</td>\n",
       "      <td>-100.0</td>\n",
       "      <td>26.7800</td>\n",
       "      <td>2678.00</td>\n",
       "      <td>E</td>\n",
       "    </tr>\n",
       "  </tbody>\n",
       "</table>\n",
       "</div>"
      ],
      "text/plain": [
       "        CRO_LibOperation  CRO_Qte  CRO_Crs  CRO_MntBrutDevDep ESO_CodType\n",
       "26842  Affectation vente    125.0  26.4700           -3308.75           E\n",
       "26843  Affectation achat    250.0  26.5350           -6633.75           E\n",
       "26844  Affectation vente   -100.0  26.6998            2669.98           E\n",
       "26845  Affectation vente   -100.0  26.8350            2683.50           E\n",
       "26846  Affectation vente   -100.0  26.7800            2678.00           E"
      ]
     },
     "execution_count": 7,
     "metadata": {},
     "output_type": "execute_result"
    }
   ],
   "source": [
    "Cro_crod.head()"
   ]
  },
  {
   "cell_type": "code",
   "execution_count": 47,
   "metadata": {},
   "outputs": [
    {
     "data": {
      "text/html": [
       "<div>\n",
       "<style scoped>\n",
       "    .dataframe tbody tr th:only-of-type {\n",
       "        vertical-align: middle;\n",
       "    }\n",
       "\n",
       "    .dataframe tbody tr th {\n",
       "        vertical-align: top;\n",
       "    }\n",
       "\n",
       "    .dataframe thead th {\n",
       "        text-align: right;\n",
       "    }\n",
       "</style>\n",
       "<table border=\"1\" class=\"dataframe\">\n",
       "  <thead>\n",
       "    <tr style=\"text-align: right;\">\n",
       "      <th></th>\n",
       "      <th>CRO_LibOperation</th>\n",
       "      <th>CRO_Qte</th>\n",
       "      <th>CRO_Crs</th>\n",
       "      <th>CRO_MntBrutDevDep</th>\n",
       "      <th>ESO_CodType</th>\n",
       "    </tr>\n",
       "  </thead>\n",
       "  <tbody>\n",
       "    <tr>\n",
       "      <th>count</th>\n",
       "      <td>4.814343e+06</td>\n",
       "      <td>4.814343e+06</td>\n",
       "      <td>4.814343e+06</td>\n",
       "      <td>4.814343e+06</td>\n",
       "      <td>4.814343e+06</td>\n",
       "    </tr>\n",
       "    <tr>\n",
       "      <th>mean</th>\n",
       "      <td>4.930244e+01</td>\n",
       "      <td>5.835351e+03</td>\n",
       "      <td>2.759068e+04</td>\n",
       "      <td>6.396656e+03</td>\n",
       "      <td>5.929283e-02</td>\n",
       "    </tr>\n",
       "    <tr>\n",
       "      <th>std</th>\n",
       "      <td>2.575057e+01</td>\n",
       "      <td>2.144349e+08</td>\n",
       "      <td>2.592875e+07</td>\n",
       "      <td>2.548168e+09</td>\n",
       "      <td>3.391659e-01</td>\n",
       "    </tr>\n",
       "    <tr>\n",
       "      <th>min</th>\n",
       "      <td>0.000000e+00</td>\n",
       "      <td>-3.320488e+11</td>\n",
       "      <td>-2.200000e+06</td>\n",
       "      <td>-3.400000e+12</td>\n",
       "      <td>0.000000e+00</td>\n",
       "    </tr>\n",
       "    <tr>\n",
       "      <th>25%</th>\n",
       "      <td>4.700000e+01</td>\n",
       "      <td>-2.913600e+01</td>\n",
       "      <td>6.100000e-01</td>\n",
       "      <td>-1.700000e+02</td>\n",
       "      <td>0.000000e+00</td>\n",
       "    </tr>\n",
       "    <tr>\n",
       "      <th>50%</th>\n",
       "      <td>5.000000e+01</td>\n",
       "      <td>2.400000e+01</td>\n",
       "      <td>1.537440e+01</td>\n",
       "      <td>2.500000e+01</td>\n",
       "      <td>0.000000e+00</td>\n",
       "    </tr>\n",
       "    <tr>\n",
       "      <th>75%</th>\n",
       "      <td>7.200000e+01</td>\n",
       "      <td>1.420000e+02</td>\n",
       "      <td>9.472000e+01</td>\n",
       "      <td>1.113635e+03</td>\n",
       "      <td>0.000000e+00</td>\n",
       "    </tr>\n",
       "    <tr>\n",
       "      <th>max</th>\n",
       "      <td>7.800000e+01</td>\n",
       "      <td>3.320488e+11</td>\n",
       "      <td>3.400000e+10</td>\n",
       "      <td>3.400000e+12</td>\n",
       "      <td>2.000000e+00</td>\n",
       "    </tr>\n",
       "  </tbody>\n",
       "</table>\n",
       "</div>"
      ],
      "text/plain": [
       "       CRO_LibOperation       CRO_Qte       CRO_Crs  CRO_MntBrutDevDep  \\\n",
       "count      4.814343e+06  4.814343e+06  4.814343e+06       4.814343e+06   \n",
       "mean       4.930244e+01  5.835351e+03  2.759068e+04       6.396656e+03   \n",
       "std        2.575057e+01  2.144349e+08  2.592875e+07       2.548168e+09   \n",
       "min        0.000000e+00 -3.320488e+11 -2.200000e+06      -3.400000e+12   \n",
       "25%        4.700000e+01 -2.913600e+01  6.100000e-01      -1.700000e+02   \n",
       "50%        5.000000e+01  2.400000e+01  1.537440e+01       2.500000e+01   \n",
       "75%        7.200000e+01  1.420000e+02  9.472000e+01       1.113635e+03   \n",
       "max        7.800000e+01  3.320488e+11  3.400000e+10       3.400000e+12   \n",
       "\n",
       "        ESO_CodType  \n",
       "count  4.814343e+06  \n",
       "mean   5.929283e-02  \n",
       "std    3.391659e-01  \n",
       "min    0.000000e+00  \n",
       "25%    0.000000e+00  \n",
       "50%    0.000000e+00  \n",
       "75%    0.000000e+00  \n",
       "max    2.000000e+00  "
      ]
     },
     "execution_count": 47,
     "metadata": {},
     "output_type": "execute_result"
    }
   ],
   "source": [
    "Cro_crod.describe()"
   ]
  },
  {
   "cell_type": "markdown",
   "metadata": {},
   "source": [
    "### Encodage de la colonne CRO_LibOperation"
   ]
  },
  {
   "cell_type": "code",
   "execution_count": 8,
   "metadata": {},
   "outputs": [],
   "source": [
    "from sklearn.preprocessing import LabelEncoder\n",
    "label_enc = LabelEncoder()\n",
    "inm_enc = label_enc.fit_transform(Cro_crod[\"CRO_LibOperation\"].values)\n",
    "inm = np.array(Cro_crod.CRO_LibOperation)\n",
    "Cro_crod.CRO_LibOperation = inm_enc"
   ]
  },
  {
   "cell_type": "code",
   "execution_count": 9,
   "metadata": {},
   "outputs": [
    {
     "data": {
      "text/html": [
       "<div>\n",
       "<style scoped>\n",
       "    .dataframe tbody tr th:only-of-type {\n",
       "        vertical-align: middle;\n",
       "    }\n",
       "\n",
       "    .dataframe tbody tr th {\n",
       "        vertical-align: top;\n",
       "    }\n",
       "\n",
       "    .dataframe thead th {\n",
       "        text-align: right;\n",
       "    }\n",
       "</style>\n",
       "<table border=\"1\" class=\"dataframe\">\n",
       "  <thead>\n",
       "    <tr style=\"text-align: right;\">\n",
       "      <th></th>\n",
       "      <th>CRO_LibOperation</th>\n",
       "      <th>CRO_Qte</th>\n",
       "      <th>CRO_Crs</th>\n",
       "      <th>CRO_MntBrutDevDep</th>\n",
       "      <th>ESO_CodType</th>\n",
       "    </tr>\n",
       "  </thead>\n",
       "  <tbody>\n",
       "    <tr>\n",
       "      <th>26842</th>\n",
       "      <td>5</td>\n",
       "      <td>125.0</td>\n",
       "      <td>26.4700</td>\n",
       "      <td>-3308.75</td>\n",
       "      <td>E</td>\n",
       "    </tr>\n",
       "    <tr>\n",
       "      <th>26843</th>\n",
       "      <td>4</td>\n",
       "      <td>250.0</td>\n",
       "      <td>26.5350</td>\n",
       "      <td>-6633.75</td>\n",
       "      <td>E</td>\n",
       "    </tr>\n",
       "    <tr>\n",
       "      <th>26844</th>\n",
       "      <td>5</td>\n",
       "      <td>-100.0</td>\n",
       "      <td>26.6998</td>\n",
       "      <td>2669.98</td>\n",
       "      <td>E</td>\n",
       "    </tr>\n",
       "    <tr>\n",
       "      <th>26845</th>\n",
       "      <td>5</td>\n",
       "      <td>-100.0</td>\n",
       "      <td>26.8350</td>\n",
       "      <td>2683.50</td>\n",
       "      <td>E</td>\n",
       "    </tr>\n",
       "    <tr>\n",
       "      <th>26846</th>\n",
       "      <td>5</td>\n",
       "      <td>-100.0</td>\n",
       "      <td>26.7800</td>\n",
       "      <td>2678.00</td>\n",
       "      <td>E</td>\n",
       "    </tr>\n",
       "  </tbody>\n",
       "</table>\n",
       "</div>"
      ],
      "text/plain": [
       "       CRO_LibOperation  CRO_Qte  CRO_Crs  CRO_MntBrutDevDep ESO_CodType\n",
       "26842                 5    125.0  26.4700           -3308.75           E\n",
       "26843                 4    250.0  26.5350           -6633.75           E\n",
       "26844                 5   -100.0  26.6998            2669.98           E\n",
       "26845                 5   -100.0  26.8350            2683.50           E\n",
       "26846                 5   -100.0  26.7800            2678.00           E"
      ]
     },
     "execution_count": 9,
     "metadata": {},
     "output_type": "execute_result"
    }
   ],
   "source": [
    "Cro_crod.head()"
   ]
  },
  {
   "cell_type": "markdown",
   "metadata": {},
   "source": [
    "### Encodage de  la colonne ESO_CodType"
   ]
  },
  {
   "cell_type": "code",
   "execution_count": 10,
   "metadata": {},
   "outputs": [],
   "source": [
    "label_enc = LabelEncoder()\n",
    "inm_enc = label_enc.fit_transform(Cro_crod[\"ESO_CodType\"].values)\n",
    "inm = np.array(Cro_crod.ESO_CodType)\n",
    "Cro_crod.ESO_CodType = inm_enc"
   ]
  },
  {
   "cell_type": "code",
   "execution_count": 11,
   "metadata": {},
   "outputs": [
    {
     "data": {
      "text/html": [
       "<div>\n",
       "<style scoped>\n",
       "    .dataframe tbody tr th:only-of-type {\n",
       "        vertical-align: middle;\n",
       "    }\n",
       "\n",
       "    .dataframe tbody tr th {\n",
       "        vertical-align: top;\n",
       "    }\n",
       "\n",
       "    .dataframe thead th {\n",
       "        text-align: right;\n",
       "    }\n",
       "</style>\n",
       "<table border=\"1\" class=\"dataframe\">\n",
       "  <thead>\n",
       "    <tr style=\"text-align: right;\">\n",
       "      <th></th>\n",
       "      <th>CRO_LibOperation</th>\n",
       "      <th>CRO_Qte</th>\n",
       "      <th>CRO_Crs</th>\n",
       "      <th>CRO_MntBrutDevDep</th>\n",
       "      <th>ESO_CodType</th>\n",
       "    </tr>\n",
       "  </thead>\n",
       "  <tbody>\n",
       "    <tr>\n",
       "      <th>26842</th>\n",
       "      <td>5</td>\n",
       "      <td>125.0</td>\n",
       "      <td>26.4700</td>\n",
       "      <td>-3308.75</td>\n",
       "      <td>0</td>\n",
       "    </tr>\n",
       "    <tr>\n",
       "      <th>26843</th>\n",
       "      <td>4</td>\n",
       "      <td>250.0</td>\n",
       "      <td>26.5350</td>\n",
       "      <td>-6633.75</td>\n",
       "      <td>0</td>\n",
       "    </tr>\n",
       "    <tr>\n",
       "      <th>26844</th>\n",
       "      <td>5</td>\n",
       "      <td>-100.0</td>\n",
       "      <td>26.6998</td>\n",
       "      <td>2669.98</td>\n",
       "      <td>0</td>\n",
       "    </tr>\n",
       "    <tr>\n",
       "      <th>26845</th>\n",
       "      <td>5</td>\n",
       "      <td>-100.0</td>\n",
       "      <td>26.8350</td>\n",
       "      <td>2683.50</td>\n",
       "      <td>0</td>\n",
       "    </tr>\n",
       "    <tr>\n",
       "      <th>26846</th>\n",
       "      <td>5</td>\n",
       "      <td>-100.0</td>\n",
       "      <td>26.7800</td>\n",
       "      <td>2678.00</td>\n",
       "      <td>0</td>\n",
       "    </tr>\n",
       "  </tbody>\n",
       "</table>\n",
       "</div>"
      ],
      "text/plain": [
       "       CRO_LibOperation  CRO_Qte  CRO_Crs  CRO_MntBrutDevDep  ESO_CodType\n",
       "26842                 5    125.0  26.4700           -3308.75            0\n",
       "26843                 4    250.0  26.5350           -6633.75            0\n",
       "26844                 5   -100.0  26.6998            2669.98            0\n",
       "26845                 5   -100.0  26.8350            2683.50            0\n",
       "26846                 5   -100.0  26.7800            2678.00            0"
      ]
     },
     "execution_count": 11,
     "metadata": {},
     "output_type": "execute_result"
    }
   ],
   "source": [
    "Cro_crod.head()"
   ]
  },
  {
   "cell_type": "markdown",
   "metadata": {},
   "source": [
    "## Partie 1 : CRO_Qte > 0 (Prédiction de la quantité)"
   ]
  },
  {
   "cell_type": "code",
   "execution_count": 12,
   "metadata": {},
   "outputs": [
    {
     "data": {
      "text/html": [
       "<div>\n",
       "<style scoped>\n",
       "    .dataframe tbody tr th:only-of-type {\n",
       "        vertical-align: middle;\n",
       "    }\n",
       "\n",
       "    .dataframe tbody tr th {\n",
       "        vertical-align: top;\n",
       "    }\n",
       "\n",
       "    .dataframe thead th {\n",
       "        text-align: right;\n",
       "    }\n",
       "</style>\n",
       "<table border=\"1\" class=\"dataframe\">\n",
       "  <thead>\n",
       "    <tr style=\"text-align: right;\">\n",
       "      <th></th>\n",
       "      <th>CRO_LibOperation</th>\n",
       "      <th>CRO_Qte</th>\n",
       "      <th>CRO_Crs</th>\n",
       "      <th>CRO_MntBrutDevDep</th>\n",
       "      <th>ESO_CodType</th>\n",
       "    </tr>\n",
       "  </thead>\n",
       "  <tbody>\n",
       "    <tr>\n",
       "      <th>26842</th>\n",
       "      <td>5</td>\n",
       "      <td>125.0</td>\n",
       "      <td>26.470</td>\n",
       "      <td>-3308.75</td>\n",
       "      <td>0</td>\n",
       "    </tr>\n",
       "    <tr>\n",
       "      <th>26843</th>\n",
       "      <td>4</td>\n",
       "      <td>250.0</td>\n",
       "      <td>26.535</td>\n",
       "      <td>-6633.75</td>\n",
       "      <td>0</td>\n",
       "    </tr>\n",
       "    <tr>\n",
       "      <th>26847</th>\n",
       "      <td>4</td>\n",
       "      <td>125.0</td>\n",
       "      <td>26.525</td>\n",
       "      <td>-3315.63</td>\n",
       "      <td>0</td>\n",
       "    </tr>\n",
       "    <tr>\n",
       "      <th>26848</th>\n",
       "      <td>4</td>\n",
       "      <td>125.0</td>\n",
       "      <td>26.595</td>\n",
       "      <td>-3324.38</td>\n",
       "      <td>0</td>\n",
       "    </tr>\n",
       "    <tr>\n",
       "      <th>26849</th>\n",
       "      <td>4</td>\n",
       "      <td>400.0</td>\n",
       "      <td>26.566</td>\n",
       "      <td>-10626.40</td>\n",
       "      <td>0</td>\n",
       "    </tr>\n",
       "  </tbody>\n",
       "</table>\n",
       "</div>"
      ],
      "text/plain": [
       "       CRO_LibOperation  CRO_Qte  CRO_Crs  CRO_MntBrutDevDep  ESO_CodType\n",
       "26842                 5    125.0   26.470           -3308.75            0\n",
       "26843                 4    250.0   26.535           -6633.75            0\n",
       "26847                 4    125.0   26.525           -3315.63            0\n",
       "26848                 4    125.0   26.595           -3324.38            0\n",
       "26849                 4    400.0   26.566          -10626.40            0"
      ]
     },
     "execution_count": 12,
     "metadata": {},
     "output_type": "execute_result"
    }
   ],
   "source": [
    "op_achat=Cro_crod[Cro_crod['CRO_Qte']>0]\n",
    "op_achat.head()"
   ]
  },
  {
   "cell_type": "markdown",
   "metadata": {},
   "source": [
    "#### Discrétisation de la colonne CRO_Qte en 4 classes : Basse, Moyenne, Élevée, Très Élevée "
   ]
  },
  {
   "cell_type": "code",
   "execution_count": 13,
   "metadata": {},
   "outputs": [
    {
     "data": {
      "text/html": [
       "<div>\n",
       "<style scoped>\n",
       "    .dataframe tbody tr th:only-of-type {\n",
       "        vertical-align: middle;\n",
       "    }\n",
       "\n",
       "    .dataframe tbody tr th {\n",
       "        vertical-align: top;\n",
       "    }\n",
       "\n",
       "    .dataframe thead th {\n",
       "        text-align: right;\n",
       "    }\n",
       "</style>\n",
       "<table border=\"1\" class=\"dataframe\">\n",
       "  <thead>\n",
       "    <tr style=\"text-align: right;\">\n",
       "      <th></th>\n",
       "      <th>CRO_LibOperation</th>\n",
       "      <th>CRO_Qte</th>\n",
       "      <th>CRO_Crs</th>\n",
       "      <th>CRO_MntBrutDevDep</th>\n",
       "      <th>ESO_CodType</th>\n",
       "    </tr>\n",
       "  </thead>\n",
       "  <tbody>\n",
       "    <tr>\n",
       "      <th>count</th>\n",
       "      <td>2.956070e+06</td>\n",
       "      <td>2.956070e+06</td>\n",
       "      <td>2.956070e+06</td>\n",
       "      <td>2.956070e+06</td>\n",
       "      <td>2.956070e+06</td>\n",
       "    </tr>\n",
       "    <tr>\n",
       "      <th>mean</th>\n",
       "      <td>4.088453e+01</td>\n",
       "      <td>1.374114e+05</td>\n",
       "      <td>2.210197e+04</td>\n",
       "      <td>-1.933398e+06</td>\n",
       "      <td>4.760882e-02</td>\n",
       "    </tr>\n",
       "    <tr>\n",
       "      <th>std</th>\n",
       "      <td>2.489772e+01</td>\n",
       "      <td>1.935097e+08</td>\n",
       "      <td>2.339662e+07</td>\n",
       "      <td>2.299442e+09</td>\n",
       "      <td>3.048105e-01</td>\n",
       "    </tr>\n",
       "    <tr>\n",
       "      <th>min</th>\n",
       "      <td>0.000000e+00</td>\n",
       "      <td>2.000000e-05</td>\n",
       "      <td>-2.200000e+06</td>\n",
       "      <td>-3.400000e+12</td>\n",
       "      <td>0.000000e+00</td>\n",
       "    </tr>\n",
       "    <tr>\n",
       "      <th>25%</th>\n",
       "      <td>3.400000e+01</td>\n",
       "      <td>3.500000e+01</td>\n",
       "      <td>5.000000e-01</td>\n",
       "      <td>-2.751370e+03</td>\n",
       "      <td>0.000000e+00</td>\n",
       "    </tr>\n",
       "    <tr>\n",
       "      <th>50%</th>\n",
       "      <td>4.700000e+01</td>\n",
       "      <td>1.000000e+02</td>\n",
       "      <td>2.249509e+00</td>\n",
       "      <td>0.000000e+00</td>\n",
       "      <td>0.000000e+00</td>\n",
       "    </tr>\n",
       "    <tr>\n",
       "      <th>75%</th>\n",
       "      <td>5.000000e+01</td>\n",
       "      <td>2.700000e+02</td>\n",
       "      <td>4.720000e+01</td>\n",
       "      <td>7.750000e+01</td>\n",
       "      <td>0.000000e+00</td>\n",
       "    </tr>\n",
       "    <tr>\n",
       "      <th>max</th>\n",
       "      <td>7.600000e+01</td>\n",
       "      <td>3.320488e+11</td>\n",
       "      <td>3.400000e+10</td>\n",
       "      <td>9.884137e+06</td>\n",
       "      <td>2.000000e+00</td>\n",
       "    </tr>\n",
       "  </tbody>\n",
       "</table>\n",
       "</div>"
      ],
      "text/plain": [
       "       CRO_LibOperation       CRO_Qte       CRO_Crs  CRO_MntBrutDevDep  \\\n",
       "count      2.956070e+06  2.956070e+06  2.956070e+06       2.956070e+06   \n",
       "mean       4.088453e+01  1.374114e+05  2.210197e+04      -1.933398e+06   \n",
       "std        2.489772e+01  1.935097e+08  2.339662e+07       2.299442e+09   \n",
       "min        0.000000e+00  2.000000e-05 -2.200000e+06      -3.400000e+12   \n",
       "25%        3.400000e+01  3.500000e+01  5.000000e-01      -2.751370e+03   \n",
       "50%        4.700000e+01  1.000000e+02  2.249509e+00       0.000000e+00   \n",
       "75%        5.000000e+01  2.700000e+02  4.720000e+01       7.750000e+01   \n",
       "max        7.600000e+01  3.320488e+11  3.400000e+10       9.884137e+06   \n",
       "\n",
       "        ESO_CodType  \n",
       "count  2.956070e+06  \n",
       "mean   4.760882e-02  \n",
       "std    3.048105e-01  \n",
       "min    0.000000e+00  \n",
       "25%    0.000000e+00  \n",
       "50%    0.000000e+00  \n",
       "75%    0.000000e+00  \n",
       "max    2.000000e+00  "
      ]
     },
     "execution_count": 13,
     "metadata": {},
     "output_type": "execute_result"
    }
   ],
   "source": [
    "op_achat.describe()"
   ]
  },
  {
   "cell_type": "code",
   "execution_count": 14,
   "metadata": {},
   "outputs": [
    {
     "name": "stderr",
     "output_type": "stream",
     "text": [
      "C:\\Users\\SL-WASSIM\\Anaconda3\\lib\\site-packages\\ipykernel_launcher.py:1: SettingWithCopyWarning: \n",
      "A value is trying to be set on a copy of a slice from a DataFrame.\n",
      "Try using .loc[row_indexer,col_indexer] = value instead\n",
      "\n",
      "See the caveats in the documentation: http://pandas.pydata.org/pandas-docs/stable/indexing.html#indexing-view-versus-copy\n",
      "  \"\"\"Entry point for launching an IPython kernel.\n",
      "C:\\Users\\SL-WASSIM\\Anaconda3\\lib\\site-packages\\pandas\\core\\indexing.py:543: SettingWithCopyWarning: \n",
      "A value is trying to be set on a copy of a slice from a DataFrame.\n",
      "Try using .loc[row_indexer,col_indexer] = value instead\n",
      "\n",
      "See the caveats in the documentation: http://pandas.pydata.org/pandas-docs/stable/indexing.html#indexing-view-versus-copy\n",
      "  self.obj[item] = s\n"
     ]
    }
   ],
   "source": [
    "op_achat[\"CRO_QteEncodé\"]=op_achat[\"CRO_Qte\"]\n",
    "pd.to_numeric(op_achat[\"CRO_Qte\"])\n",
    "op_achat.loc[op_achat['CRO_Qte'] >= 2.700000e+02, 'CRO_QteEncodé'] = \"Très Elevée\"\n",
    "op_achat.loc[op_achat['CRO_Qte'] < 3.500000e+01, 'CRO_QteEncodé'] = \"Basse\"\n",
    "op_achat.loc[(op_achat['CRO_Qte'] >= 1.000000e+02)&(op_achat['CRO_Qte'] < 2.700000e+02 ), 'CRO_QteEncodé'] = \"Elevée\"\n",
    "op_achat.loc[(op_achat['CRO_Qte'] < 1.000000e+02)&(op_achat['CRO_Qte'] >= 3.500000e+01) , 'CRO_QteEncodé'] = \"Moyenne\""
   ]
  },
  {
   "cell_type": "code",
   "execution_count": 15,
   "metadata": {},
   "outputs": [],
   "source": [
    "op_achat=op_achat.drop(columns=['CRO_Qte'])"
   ]
  },
  {
   "cell_type": "code",
   "execution_count": 16,
   "metadata": {},
   "outputs": [
    {
     "data": {
      "text/html": [
       "<div>\n",
       "<style scoped>\n",
       "    .dataframe tbody tr th:only-of-type {\n",
       "        vertical-align: middle;\n",
       "    }\n",
       "\n",
       "    .dataframe tbody tr th {\n",
       "        vertical-align: top;\n",
       "    }\n",
       "\n",
       "    .dataframe thead th {\n",
       "        text-align: right;\n",
       "    }\n",
       "</style>\n",
       "<table border=\"1\" class=\"dataframe\">\n",
       "  <thead>\n",
       "    <tr style=\"text-align: right;\">\n",
       "      <th></th>\n",
       "      <th>CRO_LibOperation</th>\n",
       "      <th>CRO_Crs</th>\n",
       "      <th>CRO_MntBrutDevDep</th>\n",
       "      <th>ESO_CodType</th>\n",
       "      <th>CRO_QteEncodé</th>\n",
       "    </tr>\n",
       "  </thead>\n",
       "  <tbody>\n",
       "    <tr>\n",
       "      <th>26842</th>\n",
       "      <td>5</td>\n",
       "      <td>26.470</td>\n",
       "      <td>-3308.75</td>\n",
       "      <td>0</td>\n",
       "      <td>Elevée</td>\n",
       "    </tr>\n",
       "    <tr>\n",
       "      <th>26843</th>\n",
       "      <td>4</td>\n",
       "      <td>26.535</td>\n",
       "      <td>-6633.75</td>\n",
       "      <td>0</td>\n",
       "      <td>Elevée</td>\n",
       "    </tr>\n",
       "    <tr>\n",
       "      <th>26847</th>\n",
       "      <td>4</td>\n",
       "      <td>26.525</td>\n",
       "      <td>-3315.63</td>\n",
       "      <td>0</td>\n",
       "      <td>Elevée</td>\n",
       "    </tr>\n",
       "    <tr>\n",
       "      <th>26848</th>\n",
       "      <td>4</td>\n",
       "      <td>26.595</td>\n",
       "      <td>-3324.38</td>\n",
       "      <td>0</td>\n",
       "      <td>Elevée</td>\n",
       "    </tr>\n",
       "    <tr>\n",
       "      <th>26849</th>\n",
       "      <td>4</td>\n",
       "      <td>26.566</td>\n",
       "      <td>-10626.40</td>\n",
       "      <td>0</td>\n",
       "      <td>Très Elevée</td>\n",
       "    </tr>\n",
       "  </tbody>\n",
       "</table>\n",
       "</div>"
      ],
      "text/plain": [
       "       CRO_LibOperation  CRO_Crs  CRO_MntBrutDevDep  ESO_CodType CRO_QteEncodé\n",
       "26842                 5   26.470           -3308.75            0        Elevée\n",
       "26843                 4   26.535           -6633.75            0        Elevée\n",
       "26847                 4   26.525           -3315.63            0        Elevée\n",
       "26848                 4   26.595           -3324.38            0        Elevée\n",
       "26849                 4   26.566          -10626.40            0   Très Elevée"
      ]
     },
     "execution_count": 16,
     "metadata": {},
     "output_type": "execute_result"
    }
   ],
   "source": [
    "op_achat.head()"
   ]
  },
  {
   "cell_type": "markdown",
   "metadata": {},
   "source": [
    "### Train Test split"
   ]
  },
  {
   "cell_type": "code",
   "execution_count": 17,
   "metadata": {},
   "outputs": [],
   "source": [
    "X=op_achat.iloc[:,:-1].values\n",
    "y=op_achat.iloc[:,-1]\n"
   ]
  },
  {
   "cell_type": "code",
   "execution_count": 18,
   "metadata": {},
   "outputs": [],
   "source": [
    "from sklearn.model_selection import train_test_split\n",
    "X_train, X_test, y_train, y_test = train_test_split(X, y, random_state=0)"
   ]
  },
  {
   "cell_type": "markdown",
   "metadata": {},
   "source": [
    "### KNN"
   ]
  },
  {
   "cell_type": "code",
   "execution_count": 19,
   "metadata": {},
   "outputs": [],
   "source": [
    "from sklearn.neighbors import KNeighborsClassifier\n",
    "from sklearn.metrics import classification_report,confusion_matrix"
   ]
  },
  {
   "cell_type": "code",
   "execution_count": 20,
   "metadata": {},
   "outputs": [],
   "source": [
    "knn = KNeighborsClassifier(3)#si on veut utiliser la distance manhattan donc:metric='manhattan'\n",
    "knn_model = knn.fit(X_train, y_train)\n",
    "y_pred_knn = knn_model.predict(X_test)"
   ]
  },
  {
   "cell_type": "code",
   "execution_count": 22,
   "metadata": {},
   "outputs": [
    {
     "name": "stdout",
     "output_type": "stream",
     "text": [
      "0.8769272196347044\n",
      "[[167120   3653   7866   1687]\n",
      " [  6678 167467  21305   4684]\n",
      " [  7195   4680 158652   1848]\n",
      " [  7713   6024  17620 154826]]\n",
      "              precision    recall  f1-score   support\n",
      "\n",
      "       Basse       0.89      0.93      0.91    180326\n",
      "      Elevée       0.92      0.84      0.88    200134\n",
      "     Moyenne       0.77      0.92      0.84    172375\n",
      " Très Elevée       0.95      0.83      0.89    186183\n",
      "\n",
      "   micro avg       0.88      0.88      0.88    739018\n",
      "   macro avg       0.88      0.88      0.88    739018\n",
      "weighted avg       0.88      0.88      0.88    739018\n",
      "\n"
     ]
    }
   ],
   "source": [
    "from sklearn.metrics import classification_report,confusion_matrix,accuracy_score\n",
    "print(accuracy_score(y_test,y_pred_knn))\n",
    "print(confusion_matrix(y_test, y_pred_knn))\n",
    "print(classification_report(y_test, y_pred_knn))"
   ]
  },
  {
   "cell_type": "markdown",
   "metadata": {},
   "source": [
    "### Random Forest"
   ]
  },
  {
   "cell_type": "code",
   "execution_count": 23,
   "metadata": {},
   "outputs": [
    {
     "name": "stderr",
     "output_type": "stream",
     "text": [
      "C:\\Users\\SL-WASSIM\\Anaconda3\\lib\\site-packages\\sklearn\\ensemble\\forest.py:246: FutureWarning: The default value of n_estimators will change from 10 in version 0.20 to 100 in 0.22.\n",
      "  \"10 in version 0.20 to 100 in 0.22.\", FutureWarning)\n"
     ]
    }
   ],
   "source": [
    "from sklearn.ensemble import RandomForestClassifier\n",
    "rfc = RandomForestClassifier()\n",
    "rfc_model = rfc.fit(X_train, y_train)\n",
    "y_pred_rfc = rfc_model.predict(X_test)"
   ]
  },
  {
   "cell_type": "code",
   "execution_count": 24,
   "metadata": {},
   "outputs": [
    {
     "name": "stdout",
     "output_type": "stream",
     "text": [
      "0.9003326035360438\n",
      "[[169652   6693   2292   1689]\n",
      " [  5354 188607   2893   3280]\n",
      " [  5533  16456 148459   1927]\n",
      " [  6304  18843   2392 158644]]\n",
      "              precision    recall  f1-score   support\n",
      "\n",
      "       Basse       0.91      0.94      0.92    180326\n",
      "      Elevée       0.82      0.94      0.88    200134\n",
      "     Moyenne       0.95      0.86      0.90    172375\n",
      " Très Elevée       0.96      0.85      0.90    186183\n",
      "\n",
      "   micro avg       0.90      0.90      0.90    739018\n",
      "   macro avg       0.91      0.90      0.90    739018\n",
      "weighted avg       0.91      0.90      0.90    739018\n",
      "\n"
     ]
    }
   ],
   "source": [
    "from sklearn.metrics import classification_report,confusion_matrix,accuracy_score\n",
    "print(accuracy_score(y_test,y_pred_rfc))\n",
    "print(confusion_matrix(y_test, y_pred_rfc))\n",
    "print(classification_report(y_test, y_pred_rfc))"
   ]
  },
  {
   "cell_type": "markdown",
   "metadata": {},
   "source": [
    "### Arbre de décision "
   ]
  },
  {
   "cell_type": "code",
   "execution_count": 25,
   "metadata": {},
   "outputs": [],
   "source": [
    "from sklearn.tree import DecisionTreeClassifier\n",
    "dtc = DecisionTreeClassifier()\n",
    "dtc_model = DecisionTreeClassifier().fit(X_train, y_train)\n",
    "y_pred_dtc = dtc_model.predict(X_test)"
   ]
  },
  {
   "cell_type": "code",
   "execution_count": 26,
   "metadata": {},
   "outputs": [
    {
     "name": "stdout",
     "output_type": "stream",
     "text": [
      "0.9002094671577688\n",
      "[[169475   6795   2293   1763]\n",
      " [  5350 188646   2756   3382]\n",
      " [  5497  16428 148481   1969]\n",
      " [  6421  18850   2243 158669]]\n",
      "              precision    recall  f1-score   support\n",
      "\n",
      "       Basse       0.91      0.94      0.92    180326\n",
      "      Elevée       0.82      0.94      0.88    200134\n",
      "     Moyenne       0.95      0.86      0.90    172375\n",
      " Très Elevée       0.96      0.85      0.90    186183\n",
      "\n",
      "   micro avg       0.90      0.90      0.90    739018\n",
      "   macro avg       0.91      0.90      0.90    739018\n",
      "weighted avg       0.91      0.90      0.90    739018\n",
      "\n"
     ]
    }
   ],
   "source": [
    "print(accuracy_score(y_test, y_pred_dtc))\n",
    "print(confusion_matrix(y_test, y_pred_dtc))\n",
    "print(classification_report(y_test, y_pred_dtc))"
   ]
  },
  {
   "cell_type": "markdown",
   "metadata": {},
   "source": [
    "### Courbe ROC"
   ]
  },
  {
   "cell_type": "code",
   "execution_count": 27,
   "metadata": {},
   "outputs": [],
   "source": [
    "proba_tree = dtc_model.predict_proba(X_test)\n",
    "proba_knn  = knn_model.predict_proba(X_test)\n",
    "proba_Rf  = rfc_model.predict_proba(X_test)"
   ]
  },
  {
   "cell_type": "code",
   "execution_count": 28,
   "metadata": {},
   "outputs": [],
   "source": [
    "from sklearn import metrics"
   ]
  },
  {
   "cell_type": "code",
   "execution_count": 30,
   "metadata": {},
   "outputs": [
    {
     "data": {
      "image/png": "[encoded data removed]",
      "text/plain": [
       "<Figure size 432x288 with 1 Axes>"
      ]
     },
     "metadata": {
      "needs_background": "light"
     },
     "output_type": "display_data"
    }
   ],
   "source": [
    "preds_tree = proba_tree[:,0]\n",
    "preds_knn  = proba_knn[:,0]\n",
    "preds_Rf   = proba_Rf[:,0]\n",
    "fpr, tpr, threshold = metrics.roc_curve(y_test, preds_knn, pos_label='Basse')\n",
    "fprr, tprr, threshold = metrics.roc_curve(y_test, preds_tree, pos_label='Basse')\n",
    "fprrr, tprrr, threshold = metrics.roc_curve(y_test, preds_Rf, pos_label='Basse')\n",
    "import matplotlib.pyplot as plt\n",
    "plt.title('Courbe Roc pour Basse')\n",
    "plt.plot(fprr,tprr ,color='yellow')\n",
    "plt.plot(fpr,tpr,color='green')\n",
    "plt.plot(fprrr,tprrr, color='red')\n",
    "plt.ylabel('True Positive ')\n",
    "plt.xlabel('False Positive ')\n",
    "plt.show()"
   ]
  },
  {
   "cell_type": "markdown",
   "metadata": {},
   "source": [
    "## Partie 2 : CRO_Qte < 0 (Prédiction du Montant Brut de l'opération)"
   ]
  },
  {
   "cell_type": "code",
   "execution_count": 31,
   "metadata": {},
   "outputs": [
    {
     "data": {
      "text/html": [
       "<div>\n",
       "<style scoped>\n",
       "    .dataframe tbody tr th:only-of-type {\n",
       "        vertical-align: middle;\n",
       "    }\n",
       "\n",
       "    .dataframe tbody tr th {\n",
       "        vertical-align: top;\n",
       "    }\n",
       "\n",
       "    .dataframe thead th {\n",
       "        text-align: right;\n",
       "    }\n",
       "</style>\n",
       "<table border=\"1\" class=\"dataframe\">\n",
       "  <thead>\n",
       "    <tr style=\"text-align: right;\">\n",
       "      <th></th>\n",
       "      <th>CRO_LibOperation</th>\n",
       "      <th>CRO_Qte</th>\n",
       "      <th>CRO_Crs</th>\n",
       "      <th>CRO_MntBrutDevDep</th>\n",
       "      <th>ESO_CodType</th>\n",
       "    </tr>\n",
       "  </thead>\n",
       "  <tbody>\n",
       "    <tr>\n",
       "      <th>26844</th>\n",
       "      <td>5</td>\n",
       "      <td>-100.0</td>\n",
       "      <td>26.6998</td>\n",
       "      <td>2669.98</td>\n",
       "      <td>0</td>\n",
       "    </tr>\n",
       "    <tr>\n",
       "      <th>26845</th>\n",
       "      <td>5</td>\n",
       "      <td>-100.0</td>\n",
       "      <td>26.8350</td>\n",
       "      <td>2683.50</td>\n",
       "      <td>0</td>\n",
       "    </tr>\n",
       "    <tr>\n",
       "      <th>26846</th>\n",
       "      <td>5</td>\n",
       "      <td>-100.0</td>\n",
       "      <td>26.7800</td>\n",
       "      <td>2678.00</td>\n",
       "      <td>0</td>\n",
       "    </tr>\n",
       "    <tr>\n",
       "      <th>26850</th>\n",
       "      <td>5</td>\n",
       "      <td>-350.0</td>\n",
       "      <td>26.8200</td>\n",
       "      <td>9387.00</td>\n",
       "      <td>0</td>\n",
       "    </tr>\n",
       "    <tr>\n",
       "      <th>26851</th>\n",
       "      <td>5</td>\n",
       "      <td>-100.0</td>\n",
       "      <td>26.8150</td>\n",
       "      <td>2681.50</td>\n",
       "      <td>0</td>\n",
       "    </tr>\n",
       "  </tbody>\n",
       "</table>\n",
       "</div>"
      ],
      "text/plain": [
       "       CRO_LibOperation  CRO_Qte  CRO_Crs  CRO_MntBrutDevDep  ESO_CodType\n",
       "26844                 5   -100.0  26.6998            2669.98            0\n",
       "26845                 5   -100.0  26.8350            2683.50            0\n",
       "26846                 5   -100.0  26.7800            2678.00            0\n",
       "26850                 5   -350.0  26.8200            9387.00            0\n",
       "26851                 5   -100.0  26.8150            2681.50            0"
      ]
     },
     "execution_count": 31,
     "metadata": {},
     "output_type": "execute_result"
    }
   ],
   "source": [
    "op_vente=Cro_crod[Cro_crod['CRO_Qte']<0]\n",
    "op_vente.head()"
   ]
  },
  {
   "cell_type": "markdown",
   "metadata": {},
   "source": [
    "#### Discrétisation de la colonne CRO_MntBrutDevDep en 4 classes : Basse, Moyenne, Élevée, Très Élevée "
   ]
  },
  {
   "cell_type": "code",
   "execution_count": 32,
   "metadata": {},
   "outputs": [
    {
     "data": {
      "text/html": [
       "<div>\n",
       "<style scoped>\n",
       "    .dataframe tbody tr th:only-of-type {\n",
       "        vertical-align: middle;\n",
       "    }\n",
       "\n",
       "    .dataframe tbody tr th {\n",
       "        vertical-align: top;\n",
       "    }\n",
       "\n",
       "    .dataframe thead th {\n",
       "        text-align: right;\n",
       "    }\n",
       "</style>\n",
       "<table border=\"1\" class=\"dataframe\">\n",
       "  <thead>\n",
       "    <tr style=\"text-align: right;\">\n",
       "      <th></th>\n",
       "      <th>CRO_LibOperation</th>\n",
       "      <th>CRO_Qte</th>\n",
       "      <th>CRO_Crs</th>\n",
       "      <th>CRO_MntBrutDevDep</th>\n",
       "      <th>ESO_CodType</th>\n",
       "    </tr>\n",
       "  </thead>\n",
       "  <tbody>\n",
       "    <tr>\n",
       "      <th>count</th>\n",
       "      <td>1.774345e+06</td>\n",
       "      <td>1.774345e+06</td>\n",
       "      <td>1.774345e+06</td>\n",
       "      <td>1.774345e+06</td>\n",
       "      <td>1.774345e+06</td>\n",
       "    </tr>\n",
       "    <tr>\n",
       "      <th>mean</th>\n",
       "      <td>6.262835e+01</td>\n",
       "      <td>-2.130952e+05</td>\n",
       "      <td>3.803786e+04</td>\n",
       "      <td>3.238420e+06</td>\n",
       "      <td>8.156306e-02</td>\n",
       "    </tr>\n",
       "    <tr>\n",
       "      <th>std</th>\n",
       "      <td>2.140196e+01</td>\n",
       "      <td>2.497576e+08</td>\n",
       "      <td>3.020235e+07</td>\n",
       "      <td>2.968002e+09</td>\n",
       "      <td>3.955298e-01</td>\n",
       "    </tr>\n",
       "    <tr>\n",
       "      <th>min</th>\n",
       "      <td>2.000000e+00</td>\n",
       "      <td>-3.320488e+11</td>\n",
       "      <td>-1.279358e+04</td>\n",
       "      <td>-4.582500e+06</td>\n",
       "      <td>0.000000e+00</td>\n",
       "    </tr>\n",
       "    <tr>\n",
       "      <th>25%</th>\n",
       "      <td>6.600000e+01</td>\n",
       "      <td>-2.230000e+02</td>\n",
       "      <td>8.820000e+00</td>\n",
       "      <td>2.950000e+01</td>\n",
       "      <td>0.000000e+00</td>\n",
       "    </tr>\n",
       "    <tr>\n",
       "      <th>50%</th>\n",
       "      <td>6.600000e+01</td>\n",
       "      <td>-7.000000e+01</td>\n",
       "      <td>4.656000e+01</td>\n",
       "      <td>2.254400e+03</td>\n",
       "      <td>0.000000e+00</td>\n",
       "    </tr>\n",
       "    <tr>\n",
       "      <th>75%</th>\n",
       "      <td>7.700000e+01</td>\n",
       "      <td>-1.800000e+01</td>\n",
       "      <td>1.446300e+02</td>\n",
       "      <td>6.000250e+03</td>\n",
       "      <td>0.000000e+00</td>\n",
       "    </tr>\n",
       "    <tr>\n",
       "      <th>max</th>\n",
       "      <td>7.800000e+01</td>\n",
       "      <td>-7.000000e-06</td>\n",
       "      <td>3.400000e+10</td>\n",
       "      <td>3.400000e+12</td>\n",
       "      <td>2.000000e+00</td>\n",
       "    </tr>\n",
       "  </tbody>\n",
       "</table>\n",
       "</div>"
      ],
      "text/plain": [
       "       CRO_LibOperation       CRO_Qte       CRO_Crs  CRO_MntBrutDevDep  \\\n",
       "count      1.774345e+06  1.774345e+06  1.774345e+06       1.774345e+06   \n",
       "mean       6.262835e+01 -2.130952e+05  3.803786e+04       3.238420e+06   \n",
       "std        2.140196e+01  2.497576e+08  3.020235e+07       2.968002e+09   \n",
       "min        2.000000e+00 -3.320488e+11 -1.279358e+04      -4.582500e+06   \n",
       "25%        6.600000e+01 -2.230000e+02  8.820000e+00       2.950000e+01   \n",
       "50%        6.600000e+01 -7.000000e+01  4.656000e+01       2.254400e+03   \n",
       "75%        7.700000e+01 -1.800000e+01  1.446300e+02       6.000250e+03   \n",
       "max        7.800000e+01 -7.000000e-06  3.400000e+10       3.400000e+12   \n",
       "\n",
       "        ESO_CodType  \n",
       "count  1.774345e+06  \n",
       "mean   8.156306e-02  \n",
       "std    3.955298e-01  \n",
       "min    0.000000e+00  \n",
       "25%    0.000000e+00  \n",
       "50%    0.000000e+00  \n",
       "75%    0.000000e+00  \n",
       "max    2.000000e+00  "
      ]
     },
     "execution_count": 32,
     "metadata": {},
     "output_type": "execute_result"
    }
   ],
   "source": [
    "op_vente.describe()"
   ]
  },
  {
   "cell_type": "code",
   "execution_count": 33,
   "metadata": {},
   "outputs": [
    {
     "name": "stderr",
     "output_type": "stream",
     "text": [
      "C:\\Users\\SL-WASSIM\\Anaconda3\\lib\\site-packages\\ipykernel_launcher.py:1: SettingWithCopyWarning: \n",
      "A value is trying to be set on a copy of a slice from a DataFrame.\n",
      "Try using .loc[row_indexer,col_indexer] = value instead\n",
      "\n",
      "See the caveats in the documentation: http://pandas.pydata.org/pandas-docs/stable/indexing.html#indexing-view-versus-copy\n",
      "  \"\"\"Entry point for launching an IPython kernel.\n",
      "C:\\Users\\SL-WASSIM\\Anaconda3\\lib\\site-packages\\pandas\\core\\indexing.py:543: SettingWithCopyWarning: \n",
      "A value is trying to be set on a copy of a slice from a DataFrame.\n",
      "Try using .loc[row_indexer,col_indexer] = value instead\n",
      "\n",
      "See the caveats in the documentation: http://pandas.pydata.org/pandas-docs/stable/indexing.html#indexing-view-versus-copy\n",
      "  self.obj[item] = s\n"
     ]
    }
   ],
   "source": [
    "op_vente[\"CRO_MntBrutEncodé\"]=op_vente[\"CRO_MntBrutDevDep\"]\n",
    "pd.to_numeric(op_vente[\"CRO_MntBrutDevDep\"])\n",
    "op_vente.loc[op_vente['CRO_MntBrutDevDep'] >= 6.000250e+03, 'CRO_MntBrutEncodé'] = \"Très Elevée\"\n",
    "op_vente.loc[op_vente['CRO_MntBrutDevDep'] < 2.950000e+01, 'CRO_MntBrutEncodé'] = \"Basse\"\n",
    "op_vente.loc[(op_vente['CRO_MntBrutDevDep'] >= 2.254400e+03)&(op_vente['CRO_MntBrutDevDep'] < 6.000250e+03 ), 'CRO_MntBrutEncodé'] = \"Elevée\"\n",
    "op_vente.loc[(op_vente['CRO_MntBrutDevDep'] < 2.254400e+03)&(op_vente['CRO_MntBrutDevDep'] >= 2.950000e+01) , 'CRO_MntBrutEncodé'] = \"Moyenne\""
   ]
  },
  {
   "cell_type": "code",
   "execution_count": 34,
   "metadata": {},
   "outputs": [],
   "source": [
    "op_vente=op_vente.drop(columns=['CRO_MntBrutDevDep'])"
   ]
  },
  {
   "cell_type": "code",
   "execution_count": 35,
   "metadata": {},
   "outputs": [
    {
     "data": {
      "text/html": [
       "<div>\n",
       "<style scoped>\n",
       "    .dataframe tbody tr th:only-of-type {\n",
       "        vertical-align: middle;\n",
       "    }\n",
       "\n",
       "    .dataframe tbody tr th {\n",
       "        vertical-align: top;\n",
       "    }\n",
       "\n",
       "    .dataframe thead th {\n",
       "        text-align: right;\n",
       "    }\n",
       "</style>\n",
       "<table border=\"1\" class=\"dataframe\">\n",
       "  <thead>\n",
       "    <tr style=\"text-align: right;\">\n",
       "      <th></th>\n",
       "      <th>CRO_LibOperation</th>\n",
       "      <th>CRO_Qte</th>\n",
       "      <th>CRO_Crs</th>\n",
       "      <th>ESO_CodType</th>\n",
       "      <th>CRO_MntBrutEncodé</th>\n",
       "    </tr>\n",
       "  </thead>\n",
       "  <tbody>\n",
       "    <tr>\n",
       "      <th>26844</th>\n",
       "      <td>5</td>\n",
       "      <td>-100.0</td>\n",
       "      <td>26.6998</td>\n",
       "      <td>0</td>\n",
       "      <td>Elevée</td>\n",
       "    </tr>\n",
       "    <tr>\n",
       "      <th>26845</th>\n",
       "      <td>5</td>\n",
       "      <td>-100.0</td>\n",
       "      <td>26.8350</td>\n",
       "      <td>0</td>\n",
       "      <td>Elevée</td>\n",
       "    </tr>\n",
       "    <tr>\n",
       "      <th>26846</th>\n",
       "      <td>5</td>\n",
       "      <td>-100.0</td>\n",
       "      <td>26.7800</td>\n",
       "      <td>0</td>\n",
       "      <td>Elevée</td>\n",
       "    </tr>\n",
       "    <tr>\n",
       "      <th>26850</th>\n",
       "      <td>5</td>\n",
       "      <td>-350.0</td>\n",
       "      <td>26.8200</td>\n",
       "      <td>0</td>\n",
       "      <td>Très Elevée</td>\n",
       "    </tr>\n",
       "    <tr>\n",
       "      <th>26851</th>\n",
       "      <td>5</td>\n",
       "      <td>-100.0</td>\n",
       "      <td>26.8150</td>\n",
       "      <td>0</td>\n",
       "      <td>Elevée</td>\n",
       "    </tr>\n",
       "  </tbody>\n",
       "</table>\n",
       "</div>"
      ],
      "text/plain": [
       "       CRO_LibOperation  CRO_Qte  CRO_Crs  ESO_CodType CRO_MntBrutEncodé\n",
       "26844                 5   -100.0  26.6998            0            Elevée\n",
       "26845                 5   -100.0  26.8350            0            Elevée\n",
       "26846                 5   -100.0  26.7800            0            Elevée\n",
       "26850                 5   -350.0  26.8200            0       Très Elevée\n",
       "26851                 5   -100.0  26.8150            0            Elevée"
      ]
     },
     "execution_count": 35,
     "metadata": {},
     "output_type": "execute_result"
    }
   ],
   "source": [
    "op_vente.head()"
   ]
  },
  {
   "cell_type": "markdown",
   "metadata": {},
   "source": [
    "### Maaraftech nsammeha"
   ]
  },
  {
   "cell_type": "code",
   "execution_count": 36,
   "metadata": {},
   "outputs": [],
   "source": [
    "X_vente=op_vente.iloc[:,:-1].values\n",
    "y_vente=op_vente.iloc[:,-1]"
   ]
  },
  {
   "cell_type": "code",
   "execution_count": 37,
   "metadata": {},
   "outputs": [],
   "source": [
    "from sklearn.model_selection import train_test_split\n",
    "X_train_vente, X_test_vente, y_train_vente, y_test_vente = train_test_split(X_vente, y_vente, random_state=0)"
   ]
  },
  {
   "cell_type": "markdown",
   "metadata": {},
   "source": [
    "### Arbre de décision "
   ]
  },
  {
   "cell_type": "code",
   "execution_count": 38,
   "metadata": {},
   "outputs": [],
   "source": [
    "from sklearn.tree import DecisionTreeClassifier\n",
    "dtc = DecisionTreeClassifier()\n",
    "dtc_model_vente = DecisionTreeClassifier().fit(X_train_vente, y_train_vente)\n",
    "y_pred_vente_dtc = dtc_model_vente.predict(X_test_vente)"
   ]
  },
  {
   "cell_type": "code",
   "execution_count": 39,
   "metadata": {},
   "outputs": [
    {
     "name": "stdout",
     "output_type": "stream",
     "text": [
      "0.9836424421815788\n",
      "[[108964    520    367    717]\n",
      " [   164 109123    481   1129]\n",
      " [   422    819 109208    606]\n",
      " [   377   1054    600 109036]]\n",
      "              precision    recall  f1-score   support\n",
      "\n",
      "       Basse       0.99      0.99      0.99    110568\n",
      "      Elevée       0.98      0.98      0.98    110897\n",
      "     Moyenne       0.99      0.98      0.99    111055\n",
      " Très Elevée       0.98      0.98      0.98    111067\n",
      "\n",
      "   micro avg       0.98      0.98      0.98    443587\n",
      "   macro avg       0.98      0.98      0.98    443587\n",
      "weighted avg       0.98      0.98      0.98    443587\n",
      "\n"
     ]
    }
   ],
   "source": [
    "print(accuracy_score(y_test_vente, y_pred_vente_dtc))\n",
    "print(confusion_matrix(y_test_vente, y_pred_vente_dtc))\n",
    "print(classification_report(y_test_vente, y_pred_vente_dtc))"
   ]
  },
  {
   "cell_type": "markdown",
   "metadata": {},
   "source": [
    "### Random Forest"
   ]
  },
  {
   "cell_type": "code",
   "execution_count": 40,
   "metadata": {},
   "outputs": [
    {
     "name": "stderr",
     "output_type": "stream",
     "text": [
      "C:\\Users\\SL-WASSIM\\Anaconda3\\lib\\site-packages\\sklearn\\ensemble\\forest.py:246: FutureWarning: The default value of n_estimators will change from 10 in version 0.20 to 100 in 0.22.\n",
      "  \"10 in version 0.20 to 100 in 0.22.\", FutureWarning)\n"
     ]
    }
   ],
   "source": [
    "from sklearn.ensemble import RandomForestClassifier\n",
    "rfc = RandomForestClassifier()\n",
    "rfc_model_vente = rfc.fit(X_train_vente, y_train_vente)\n",
    "y_pred_vente_rfc = rfc_model_vente.predict(X_test_vente)"
   ]
  },
  {
   "cell_type": "code",
   "execution_count": 41,
   "metadata": {},
   "outputs": [
    {
     "name": "stdout",
     "output_type": "stream",
     "text": [
      "0.9849927973542958\n",
      "[[109099    469    315    685]\n",
      " [   139 109322    400   1036]\n",
      " [   403    825 109255    572]\n",
      " [   374    902    537 109254]]\n",
      "              precision    recall  f1-score   support\n",
      "\n",
      "       Basse       0.99      0.99      0.99    110568\n",
      "      Elevée       0.98      0.99      0.98    110897\n",
      "     Moyenne       0.99      0.98      0.99    111055\n",
      " Très Elevée       0.98      0.98      0.98    111067\n",
      "\n",
      "   micro avg       0.98      0.98      0.98    443587\n",
      "   macro avg       0.99      0.98      0.99    443587\n",
      "weighted avg       0.99      0.98      0.98    443587\n",
      "\n"
     ]
    }
   ],
   "source": [
    "from sklearn.metrics import classification_report,confusion_matrix,accuracy_score\n",
    "print(accuracy_score(y_test_vente,y_pred_vente_rfc))\n",
    "print(confusion_matrix(y_test_vente, y_pred_vente_rfc))\n",
    "print(classification_report(y_test_vente, y_pred_vente_rfc))"
   ]
  },
  {
   "cell_type": "markdown",
   "metadata": {},
   "source": [
    "### KNN"
   ]
  },
  {
   "cell_type": "code",
   "execution_count": null,
   "metadata": {},
   "outputs": [],
   "source": [
    "from sklearn.neighbors import KNeighborsClassifier\n",
    "from sklearn.metrics import classification_report,confusion_matrix"
   ]
  },
  {
   "cell_type": "code",
   "execution_count": 42,
   "metadata": {},
   "outputs": [],
   "source": [
    "knn = KNeighborsClassifier(3)#si on veut utiliser la distance manhattan donc:metric='manhattan'\n",
    "knn_model_vente = knn.fit(X_train_vente, y_train_vente)\n",
    "y_pred_vente_knn = knn_model_vente.predict(X_test_vente)"
   ]
  },
  {
   "cell_type": "code",
   "execution_count": 43,
   "metadata": {},
   "outputs": [
    {
     "name": "stdout",
     "output_type": "stream",
     "text": [
      "0.9661644728091671\n",
      "[[106657    543    893   2475]\n",
      " [   559 107478   1446   1414]\n",
      " [  1101   1384 107848    722]\n",
      " [  1964   1791    717 106595]]\n",
      "              precision    recall  f1-score   support\n",
      "\n",
      "       Basse       0.97      0.96      0.97    110568\n",
      "      Elevée       0.97      0.97      0.97    110897\n",
      "     Moyenne       0.97      0.97      0.97    111055\n",
      " Très Elevée       0.96      0.96      0.96    111067\n",
      "\n",
      "   micro avg       0.97      0.97      0.97    443587\n",
      "   macro avg       0.97      0.97      0.97    443587\n",
      "weighted avg       0.97      0.97      0.97    443587\n",
      "\n"
     ]
    }
   ],
   "source": [
    "print(accuracy_score(y_test_vente,y_pred_vente_knn))\n",
    "print(confusion_matrix(y_test_vente, y_pred_vente_knn))\n",
    "print(classification_report(y_test_vente, y_pred_vente_knn))"
   ]
  },
  {
   "cell_type": "markdown",
   "metadata": {},
   "source": [
    "### COURBE ROC"
   ]
  },
  {
   "cell_type": "code",
   "execution_count": 44,
   "metadata": {},
   "outputs": [],
   "source": [
    "proba_tree_vente = dtc_model_vente.predict_proba(X_test_vente)\n",
    "proba_knn_vente  = knn_model_vente.predict_proba(X_test_vente)\n",
    "proba_Rf_vente  = rfc_model_vente.predict_proba(X_test_vente)"
   ]
  },
  {
   "cell_type": "code",
   "execution_count": null,
   "metadata": {},
   "outputs": [],
   "source": [
    "from sklearn import metrics"
   ]
  },
  {
   "cell_type": "code",
   "execution_count": 46,
   "metadata": {},
   "outputs": [
    {
     "data": {
      "image/png": "[encoded data removed]",
      "text/plain": [
       "<Figure size 432x288 with 1 Axes>"
      ]
     },
     "metadata": {
      "needs_background": "light"
     },
     "output_type": "display_data"
    }
   ],
   "source": [
    "preds_tree_vente = proba_tree_vente[:,0]\n",
    "preds_knn_vente  = proba_knn_vente[:,0]\n",
    "preds_Rf_vente   = proba_Rf_vente[:,0]\n",
    "fpr_v, tpr_v, threshold_v = metrics.roc_curve(y_test_vente, preds_knn_vente, pos_label='Basse')\n",
    "fprr_v, tprr_v, threshold_v = metrics.roc_curve(y_test_vente, preds_tree_vente, pos_label='Basse')\n",
    "fprrr_v, tprrr_v, threshold = metrics.roc_curve(y_test_vente, preds_Rf_vente, pos_label='Basse')\n",
    "import matplotlib.pyplot as plt\n",
    "plt.title('Courbe Roc pour Basse')\n",
    "plt.plot(fprr_v,tprr_v ,color='yellow')\n",
    "plt.plot(fpr_v,tpr_v,color='green')\n",
    "plt.plot(fprrr_v,tprrr_v, color='red')\n",
    "plt.ylabel('True Positive ')\n",
    "plt.xlabel('False Positive ')\n",
    "plt.show()"
   ]
  },
  {
   "cell_type": "code",
   "execution_count": null,
   "metadata": {},
   "outputs": [],
   "source": []
  }
 ],
 "metadata": {
  "kernelspec": {
   "display_name": "Python 3",
   "language": "python",
   "name": "python3"
  },
  "language_info": {
   "codemirror_mode": {
    "name": "ipython",
    "version": 3
   },
   "file_extension": ".py",
   "mimetype": "text/x-python",
   "name": "python",
   "nbconvert_exporter": "python",
   "pygments_lexer": "ipython3",
   "version": "3.7.4"
  }
 },
 "nbformat": 4,
 "nbformat_minor": 4
}
